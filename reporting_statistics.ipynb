{
 "cells": [
  {
   "cell_type": "code",
   "execution_count": 1,
   "metadata": {},
   "outputs": [],
   "source": [
    "import warnings ; warnings.filterwarnings('ignore')"
   ]
  },
  {
   "cell_type": "code",
   "execution_count": 2,
   "metadata": {},
   "outputs": [],
   "source": [
    "import colour, h5py, time, pickle, pandas, random, os\n",
    "from scipy.stats.mstats import zscore\n",
    "import numpy as np\n",
    "import matplotlib.pyplot as plt\n",
    "import statsmodels.formula.api as smf\n",
    "from sklearn.linear_model import LinearRegression\n",
    "import pandas as pd\n",
    "import statsmodels.formula.api as sm\n",
    "from IPython.display import Markdown as md\n",
    "from scipy import stats"
   ]
  },
  {
   "cell_type": "code",
   "execution_count": 3,
   "metadata": {},
   "outputs": [
    {
     "name": "stdout",
     "output_type": "stream",
     "text": [
      "Populating the interactive namespace from numpy and matplotlib\n"
     ]
    }
   ],
   "source": [
    "%pylab inline "
   ]
  },
  {
   "cell_type": "code",
   "execution_count": 234,
   "metadata": {},
   "outputs": [],
   "source": [
    "def show_params(model_, index_ =-1): \n",
    "    \n",
    "    def sigfigs(x): \n",
    "        # decimal places\n",
    "        d = int(str('%.2e'%x)[('%.2e'%x).find('-')+1:])\n",
    "        # the numeric value in front of it\n",
    "        n = np.ceil(float(str('%.02e'%x)[0:3]))\n",
    "        return n, d\n",
    "    \n",
    "    beta = model_.params[index_]\n",
    "    pval = model_.pvalues[index_]\n",
    "    rsqrd= model_.rsquared\n",
    "    df_model = model_.df_model\n",
    "    df_resid = model_.df_resid\n",
    "    tvalues = model_.tvalues[index_]\n",
    "    \n",
    "    if pval < .05: \n",
    "        _nums = sigfigs(pval)\n",
    "        if _nums[1] > 2: \n",
    "            stat_str = \"$R^{2}_{model} = %.02f$, $\\\\beta = %.2f$, $F(%d, %d)$ = $%.02f, p < %.0f $ x $ 10 ^{-%d} $\"\n",
    "            report = stat_str%(rsqrd, beta, df_model, df_resid, tvalues, _nums[0], _nums[1])\n",
    "        else: \n",
    "            stat_str = \"$R^{2}_{model} = %.02f$, $\\\\beta = %.2f$, $F(%d, %d)$ = $%.02f, p < .05 $\"\n",
    "            report = stat_str%(rsqrd, beta, df_model, df_resid, tvalues)\n",
    "    else: \n",
    "        \n",
    "        stat_str = \"$R^{2}_{model} = %.02f$, $\\\\beta = %.2f$, $F(%d, %d)$ = $%.02f, p > .05$\"\n",
    "        report = stat_str%(rsqrd, beta, df_model, df_resid, tvalues) \n",
    "    \n",
    "    return md(report), report"
   ]
  },
  {
   "cell_type": "code",
   "execution_count": 235,
   "metadata": {},
   "outputs": [],
   "source": [
    "_location = '/Users/biota/work/mtl_perception/summary/figures/' "
   ]
  },
  {
   "cell_type": "code",
   "execution_count": 236,
   "metadata": {},
   "outputs": [],
   "source": [
    "import electrophysiological.analyses as neural"
   ]
  },
  {
   "cell_type": "code",
   "execution_count": 237,
   "metadata": {},
   "outputs": [],
   "source": [
    "n_iterations = 100"
   ]
  },
  {
   "cell_type": "code",
   "execution_count": 238,
   "metadata": {},
   "outputs": [],
   "source": [
    "vvs_path = os.path.abspath(\n",
    "    'electrophysiological/ventral_neural_data.hdf5')"
   ]
  },
  {
   "cell_type": "code",
   "execution_count": 239,
   "metadata": {},
   "outputs": [],
   "source": [
    "reliability = neural.split_half_correlation(vvs_path, \n",
    "                                            n_iterations, \n",
    "                                            np.mean)"
   ]
  },
  {
   "cell_type": "code",
   "execution_count": 240,
   "metadata": {},
   "outputs": [],
   "source": [
    "pls_vvs_dir = os.path.abspath('electrophysiological/pls_fitting_results')"
   ]
  },
  {
   "cell_type": "code",
   "execution_count": 241,
   "metadata": {},
   "outputs": [],
   "source": [
    "pls_fits = neural.layer_fits(pls_vvs_dir, np.median, reliability)"
   ]
  },
  {
   "cell_type": "markdown",
   "metadata": {},
   "source": [
    "### median split-half reliability for IT"
   ]
  },
  {
   "cell_type": "code",
   "execution_count": 242,
   "metadata": {},
   "outputs": [
    {
     "data": {
      "text/markdown": [
       "$r=0.73 \\pm 0.24STD$"
      ],
      "text/plain": [
       "<IPython.core.display.Markdown object>"
      ]
     },
     "execution_count": 242,
     "metadata": {},
     "output_type": "execute_result"
    }
   ],
   "source": [
    "md(r'$r=%.02f \\pm %.02fSTD$'%(np.median(reliability['IT_NEURONS']), \n",
    "                              np.std(reliability['IT_NEURONS'])))"
   ]
  },
  {
   "cell_type": "markdown",
   "metadata": {},
   "source": [
    "### median split-half reliability for V4"
   ]
  },
  {
   "cell_type": "code",
   "execution_count": 243,
   "metadata": {},
   "outputs": [
    {
     "data": {
      "text/markdown": [
       "$r=0.62 \\pm 0.22STD$"
      ],
      "text/plain": [
       "<IPython.core.display.Markdown object>"
      ]
     },
     "execution_count": 243,
     "metadata": {},
     "output_type": "execute_result"
    }
   ],
   "source": [
    "md(r'$r=%.02f \\pm %.02fSTD$'%(np.median(reliability['V4_NEURONS']), \n",
    "                              np.std(reliability['V4_NEURONS'])))"
   ]
  },
  {
   "cell_type": "markdown",
   "metadata": {},
   "source": [
    "### first half fits V4 better"
   ]
  },
  {
   "cell_type": "code",
   "execution_count": 244,
   "metadata": {},
   "outputs": [
    {
     "data": {
      "text/markdown": [
       "$ t(8)=2.70, p < 0.015$"
      ],
      "text/plain": [
       "<IPython.core.display.Markdown object>"
      ]
     },
     "execution_count": 244,
     "metadata": {},
     "output_type": "execute_result"
    }
   ],
   "source": [
    "_v4half1 = pls_fits['v4']['mu'][:len(pls_fits['it']['mu'])//2]\n",
    "_v4half2 = pls_fits['v4']['mu'][len(pls_fits['it']['mu'])//2:]\n",
    "\n",
    "_v4t, _v4p = stats.ttest_ind(_v4half1, _v4half2) \n",
    "\n",
    "md(r'$ t(%d)=%.02f, p < %.03f$'%(len(_v4half1)-1, _v4t,  _v4p))"
   ]
  },
  {
   "cell_type": "markdown",
   "metadata": {},
   "source": [
    "### second half fits IT better"
   ]
  },
  {
   "cell_type": "code",
   "execution_count": 245,
   "metadata": {},
   "outputs": [
    {
     "data": {
      "text/markdown": [
       "$ t(8)=3.70, p < 0.002$"
      ],
      "text/plain": [
       "<IPython.core.display.Markdown object>"
      ]
     },
     "execution_count": 245,
     "metadata": {},
     "output_type": "execute_result"
    }
   ],
   "source": [
    "_ithalf1 = pls_fits['it']['mu'][len(pls_fits['it']['mu'])//2:]\n",
    "_ithalf2 = pls_fits['it']['mu'][:len(pls_fits['it']['mu'])//2]\n",
    "_itsplit = stats.ttest_ind(_ithalf1, _ithalf2) \n",
    "md(r'$ t(%d)=%.02f, p < %.03f$'%(len(pls_fits['it']['mu'])//2-1, \n",
    "                                 _itsplit[0], \n",
    "                                 _itsplit[1]))"
   ]
  },
  {
   "cell_type": "code",
   "execution_count": 246,
   "metadata": {},
   "outputs": [
    {
     "data": {
      "text/markdown": [
       "$R^{2}_{model} = 0.96$, $\\beta = 0.98$, $F(1, 17)$ = $20.91, p < 2 $ x $ 10 ^{-13} $"
      ],
      "text/plain": [
       "<IPython.core.display.Markdown object>"
      ]
     },
     "execution_count": 246,
     "metadata": {},
     "output_type": "execute_result"
    }
   ],
   "source": [
    "_increasing_itfit = smf.ols('zscore(y)~zscore(x)', \n",
    "                            data=pandas.DataFrame(\n",
    "                                {'y':pls_fits['delta'], \n",
    "                                 'x':np.arange(len(pls_fits['delta']))}\n",
    "                            ))\n",
    "show_model_parameters(_increasing_itfit.fit())[0]"
   ]
  },
  {
   "cell_type": "markdown",
   "metadata": {},
   "source": [
    "# metaparameters for analysis"
   ]
  },
  {
   "cell_type": "markdown",
   "metadata": {},
   "source": [
    "### identify 'IT-like' and 'V4-like' layers "
   ]
  },
  {
   "cell_type": "code",
   "execution_count": 247,
   "metadata": {},
   "outputs": [],
   "source": [
    "it_layer = pls_fits['layers'][ pls_fits['it']['mu'].argmax() ] \n",
    "v4_layer =  pls_fits['layers'][ pls_fits['v4']['mu'].argmax() ] "
   ]
  },
  {
   "cell_type": "code",
   "execution_count": 248,
   "metadata": {},
   "outputs": [
    {
     "data": {
      "text/markdown": [
       "conv5_1  $r=0.88 \\pm 0.16STD$"
      ],
      "text/plain": [
       "<IPython.core.display.Markdown object>"
      ]
     },
     "execution_count": 248,
     "metadata": {},
     "output_type": "execute_result"
    }
   ],
   "source": [
    "md('%s  'r'$r=%.02f \\pm %.02fSTD$'%(it_layer,\n",
    "                                    pls_fits['it']['mu'].max(),\n",
    "                                    pls_fits['it']['std'][\n",
    "                                        pls_fits['it']['mu'].argmax()]))"
   ]
  },
  {
   "cell_type": "markdown",
   "metadata": {},
   "source": [
    "# Diagnostic Experiments"
   ]
  },
  {
   "cell_type": "code",
   "execution_count": 65,
   "metadata": {},
   "outputs": [],
   "source": [
    "import retrospective.combine_results as retrospective"
   ]
  },
  {
   "cell_type": "code",
   "execution_count": 66,
   "metadata": {},
   "outputs": [],
   "source": [
    "base_directory = '/Users/biota/work/mtl_perception/retrospective/'"
   ]
  },
  {
   "cell_type": "code",
   "execution_count": 67,
   "metadata": {},
   "outputs": [],
   "source": [
    "\n",
    "\n",
    "\n",
    "\n",
    "meta_df, meta_statistics, nondiagnostic = retrospective.across_studies(\n",
    "    it_layer,\n",
    "    v4_layer, \n",
    "    base_directory)\n",
    "\n",
    "\n"
   ]
  },
  {
   "cell_type": "markdown",
   "metadata": {},
   "source": [
    "## Meta-analysis (sans model estimates)"
   ]
  },
  {
   "cell_type": "markdown",
   "metadata": {},
   "source": [
    "### A significant difference between PRC-lesioned and PRC-intact subjects"
   ]
  },
  {
   "cell_type": "code",
   "execution_count": 68,
   "metadata": {},
   "outputs": [],
   "source": [
    "prc_lesioncontrol_test = smf.ols(formula='prc_delta~1', data=meta_df)"
   ]
  },
  {
   "cell_type": "code",
   "execution_count": 69,
   "metadata": {},
   "outputs": [
    {
     "data": {
      "text/markdown": [
       "$R^{2}_{model} = 0.00$, $\\beta = 0.14$, $F(0, 13)$ = $2.68, p < .05 $"
      ],
      "text/plain": [
       "<IPython.core.display.Markdown object>"
      ]
     },
     "execution_count": 69,
     "metadata": {},
     "output_type": "execute_result"
    }
   ],
   "source": [
    "show_model_parameters(prc_lesioncontrol_test.fit())[0]"
   ]
  },
  {
   "cell_type": "markdown",
   "metadata": {},
   "source": [
    "### Not a significant difference between HPC-lesioned and HPC-intact subjects"
   ]
  },
  {
   "cell_type": "code",
   "execution_count": 70,
   "metadata": {},
   "outputs": [],
   "source": [
    "hpc_lesionintact_test = smf.ols(formula='hpc_delta~1', data=meta_df)"
   ]
  },
  {
   "cell_type": "code",
   "execution_count": 233,
   "metadata": {},
   "outputs": [
    {
     "ename": "NameError",
     "evalue": "name 'show_params' is not defined",
     "output_type": "error",
     "traceback": [
      "\u001b[0;31m---------------------------------------------------------------------------\u001b[0m",
      "\u001b[0;31mNameError\u001b[0m                                 Traceback (most recent call last)",
      "\u001b[0;32m<ipython-input-233-689a1deb8e08>\u001b[0m in \u001b[0;36m<module>\u001b[0;34m\u001b[0m\n\u001b[0;32m----> 1\u001b[0;31m \u001b[0mshow_params\u001b[0m\u001b[0;34m(\u001b[0m\u001b[0mhpc_lesionintact_test\u001b[0m\u001b[0;34m.\u001b[0m\u001b[0mfit\u001b[0m\u001b[0;34m(\u001b[0m\u001b[0;34m)\u001b[0m\u001b[0;34m)\u001b[0m\u001b[0;34m[\u001b[0m\u001b[0;36m0\u001b[0m\u001b[0;34m]\u001b[0m\u001b[0;34m\u001b[0m\u001b[0;34m\u001b[0m\u001b[0m\n\u001b[0m",
      "\u001b[0;31mNameError\u001b[0m: name 'show_params' is not defined"
     ]
    }
   ],
   "source": [
    "show_params(hpc_lesionintact_test.fit())[0]"
   ]
  },
  {
   "cell_type": "markdown",
   "metadata": {},
   "source": [
    "### A significant difference between lesioned and intact subjects by group (PRC vs. HPC)"
   ]
  },
  {
   "cell_type": "code",
   "execution_count": 72,
   "metadata": {},
   "outputs": [
    {
     "data": {
      "text/markdown": [
       "$R^{2}_{model} = 0.17$, $\\beta = 0.13$, $F(1, 26)$ = $2.34, p < .05 $"
      ],
      "text/plain": [
       "<IPython.core.display.Markdown object>"
      ]
     },
     "execution_count": 72,
     "metadata": {},
     "output_type": "execute_result"
    }
   ],
   "source": [
    "prc_hpc_lesionintact_difference = {\n",
    "    'delta': np.concatenate([meta_df['hpc_delta'], \n",
    "                             meta_df['prc_delta']]),\n",
    "    'group': np.concatenate([np.repeat('hpc', len(meta_df)), \n",
    "                             np.repeat('prc', len(meta_df))])}\n",
    "\n",
    "prc_hpc_lesionintact_test = smf.ols(formula='delta~group', \n",
    "                                    data=prc_hpc_lesionintact_difference).fit()\n",
    "\n",
    "show_params(prc_hpc_lesionintact_test)[0]"
   ]
  },
  {
   "cell_type": "markdown",
   "metadata": {},
   "source": [
    "## An \"IT-like\" model layer predicts the behavior of PRC-lesioned subjects"
   ]
  },
  {
   "cell_type": "code",
   "execution_count": 73,
   "metadata": {},
   "outputs": [
    {
     "data": {
      "image/png": "[encoded data removed]",
      "text/plain": [
       "<Figure size 324x288 with 1 Axes>"
      ]
     },
     "metadata": {
      "needs_background": "light"
     },
     "output_type": "display_data"
    }
   ],
   "source": [
    "n_ = len(meta_df)\n",
    "prc_it_prediction = smf.ols(\"prc_lesion ~ %s\"%it_layer, meta_df).fit()\n",
    "plt.figure(figsize=[4.5, 4])\n",
    "plt.scatter(y=meta_df['prc_lesion'],x=meta_df[it_layer], color='black')\n",
    "plt.plot([0, 1], [0, 1], color='lightgrey', zorder=-1, linestyle=':')\n",
    "plt.title('Model predicts PRC-lesioned behavior', y=1.05); \n",
    "plt.xlabel('Model Performance')\n",
    "plt.ylabel('PRC-lesioned Performance'); "
   ]
  },
  {
   "cell_type": "code",
   "execution_count": 74,
   "metadata": {},
   "outputs": [
    {
     "data": {
      "text/markdown": [
       "$R^{2}_{model} = 0.74$, $\\beta = 0.86$, $F(1, 12)$ = $5.92, p < 7 $ x $ 10 ^{-5} $"
      ],
      "text/plain": [
       "<IPython.core.display.Markdown object>"
      ]
     },
     "execution_count": 74,
     "metadata": {},
     "output_type": "execute_result"
    }
   ],
   "source": [
    "show_model_parameters(prc_it_prediction)[0]"
   ]
  },
  {
   "cell_type": "markdown",
   "metadata": {},
   "source": [
    "### \"IT-like\" model does not predict HPC-lesioned performance"
   ]
  },
  {
   "cell_type": "code",
   "execution_count": 75,
   "metadata": {},
   "outputs": [
    {
     "data": {
      "image/png": "[encoded data removed]",
      "text/plain": [
       "<Figure size 324x288 with 1 Axes>"
      ]
     },
     "metadata": {
      "needs_background": "light"
     },
     "output_type": "display_data"
    }
   ],
   "source": [
    "plt.figure(figsize=[4.5, 4])\n",
    "plt.scatter(y=meta_df['hpc_lesion'],x=meta_df[it_layer], color='black')\n",
    "plt.plot([0, 1], [0, 1], color='lightgrey', zorder=-1, linestyle=':')\n",
    "plt.title('Model does not predict HPC-lesioned behavior', y=1.05); \n",
    "plt.xlabel('Model Performance')\n",
    "plt.ylabel('HPC-lesioned Performance'); "
   ]
  },
  {
   "cell_type": "code",
   "execution_count": 76,
   "metadata": {
    "scrolled": true
   },
   "outputs": [
    {
     "data": {
      "text/markdown": [
       "$R^{2}_{model} = 0.27$, $\\beta = 0.33$, $F(1, 12)$ = $2.11, p > .05$"
      ],
      "text/plain": [
       "<IPython.core.display.Markdown object>"
      ]
     },
     "execution_count": 76,
     "metadata": {},
     "output_type": "execute_result"
    }
   ],
   "source": [
    "hpc_it_prediction = smf.ols(\"hpc_lesion ~ %s\"%it_layer, meta_df).fit()\n",
    "show_model_parameters(hpc_it_prediction)[0]"
   ]
  },
  {
   "cell_type": "code",
   "execution_count": 77,
   "metadata": {},
   "outputs": [
    {
     "data": {
      "text/markdown": [
       "$R^{2}_{model} = 0.26$, $\\beta = 0.28$, $F(1, 12)$ = $2.04, p > .05$"
      ],
      "text/plain": [
       "<IPython.core.display.Markdown object>"
      ]
     },
     "execution_count": 77,
     "metadata": {},
     "output_type": "execute_result"
    }
   ],
   "source": [
    "hpc_it_prediction = smf.ols(\"hpc_intact ~ %s\"%it_layer, meta_df).fit()\n",
    "show_model_parameters(hpc_it_prediction)[0]"
   ]
  },
  {
   "cell_type": "markdown",
   "metadata": {},
   "source": [
    "## An \"IT-like\" model layer does not predict the behavior of PRC-intact subjects"
   ]
  },
  {
   "cell_type": "code",
   "execution_count": 78,
   "metadata": {},
   "outputs": [
    {
     "data": {
      "image/png": "[encoded data removed]",
      "text/plain": [
       "<Figure size 324x288 with 1 Axes>"
      ]
     },
     "metadata": {
      "needs_background": "light"
     },
     "output_type": "display_data"
    }
   ],
   "source": [
    "plt.figure(figsize=[4.5, 4])\n",
    "plt.scatter(y=meta_df['prc_intact'],x=meta_df[it_layer], color='black')\n",
    "plt.plot([0, 1], [0, 1], color='lightgrey', zorder=-1, linestyle=':')\n",
    "plt.title('Model does not predict PRC-intact behavior', y=1.05); \n",
    "plt.xlabel('Model Performance')\n",
    "plt.ylabel('HPC-lesioned Performance');"
   ]
  },
  {
   "cell_type": "code",
   "execution_count": 79,
   "metadata": {},
   "outputs": [
    {
     "data": {
      "text/markdown": [
       "$R^{2}_{model} = 0.24$, $\\beta = 0.27$, $F(1, 12)$ = $1.97, p > .05$"
      ],
      "text/plain": [
       "<IPython.core.display.Markdown object>"
      ]
     },
     "execution_count": 79,
     "metadata": {},
     "output_type": "execute_result"
    }
   ],
   "source": [
    "prcintact_it_prediction = smf.ols(\"prc_intact ~ %s\"%it_layer, \n",
    "                                  meta_df[['prc_intact', it_layer]])\n",
    "\n",
    "show_model_parameters(prcintact_it_prediction.fit())[0]"
   ]
  },
  {
   "cell_type": "markdown",
   "metadata": {},
   "source": [
    "### PRC-intact control subjects ourperform the model"
   ]
  },
  {
   "cell_type": "code",
   "execution_count": 80,
   "metadata": {},
   "outputs": [
    {
     "data": {
      "text/markdown": [
       "$R^{2}_{model} = 0.00$, $\\beta = 0.36$, $F(0, 13)$ = $6.82, p < 2 $ x $ 10 ^{-5} $"
      ],
      "text/plain": [
       "<IPython.core.display.Markdown object>"
      ]
     },
     "execution_count": 80,
     "metadata": {},
     "output_type": "execute_result"
    }
   ],
   "source": [
    "_tmpdf = pandas.DataFrame({'delta': meta_df['prc_intact']-meta_df[it_layer]})\n",
    "prcintact_model_delta = smf.ols(\"delta ~ 1\", _tmpdf).fit()\n",
    "show_model_parameters(prcintact_model_delta)[0]"
   ]
  },
  {
   "cell_type": "code",
   "execution_count": 81,
   "metadata": {},
   "outputs": [
    {
     "data": {
      "text/markdown": [
       "$R^{2}_{model} = 0.00$, $\\beta = 0.36$, $F(0, 13)$ = $6.82, p < 2 $ x $ 10 ^{-5} $"
      ],
      "text/plain": [
       "<IPython.core.display.Markdown object>"
      ]
     },
     "execution_count": 81,
     "metadata": {},
     "output_type": "execute_result"
    }
   ],
   "source": [
    "_tmpdf = pandas.DataFrame({'delta': meta_df['prc_intact']-meta_df[it_layer]})\n",
    "prcintact_model_delta = smf.ols(\"delta ~ 1\", _tmpdf).fit()\n",
    "show_model_parameters(prcintact_model_delta)[0]"
   ]
  },
  {
   "cell_type": "markdown",
   "metadata": {},
   "source": [
    "### Selective HPC-lesions subjects ourperform the model"
   ]
  },
  {
   "cell_type": "code",
   "execution_count": 82,
   "metadata": {},
   "outputs": [
    {
     "data": {
      "text/markdown": [
       "$R^{2}_{model} = -0.00$, $\\beta = 0.35$, $F(0, 13)$ = $6.64, p < 2 $ x $ 10 ^{-5} $"
      ],
      "text/plain": [
       "<IPython.core.display.Markdown object>"
      ]
     },
     "execution_count": 82,
     "metadata": {},
     "output_type": "execute_result"
    }
   ],
   "source": [
    "_tmpdf = pandas.DataFrame({'delta': meta_df['hpc_lesion']-meta_df[it_layer]})\n",
    "prcintact_model_delta = smf.ols(\"delta ~ 1\", _tmpdf).fit()\n",
    "show_model_parameters(prcintact_model_delta)[0]"
   ]
  },
  {
   "cell_type": "code",
   "execution_count": 83,
   "metadata": {},
   "outputs": [
    {
     "data": {
      "text/markdown": [
       "$R^{2}_{model} = 0.00$, $\\beta = 0.36$, $F(0, 13)$ = $6.85, p < 2 $ x $ 10 ^{-5} $"
      ],
      "text/plain": [
       "<IPython.core.display.Markdown object>"
      ]
     },
     "execution_count": 83,
     "metadata": {},
     "output_type": "execute_result"
    }
   ],
   "source": [
    "_tmpdf = pandas.DataFrame({'delta': meta_df['hpc_intact']-meta_df[it_layer]})\n",
    "prcintact_model_delta = smf.ols(\"delta ~ 1\", _tmpdf).fit()\n",
    "show_model_parameters(prcintact_model_delta)[0]"
   ]
  },
  {
   "cell_type": "markdown",
   "metadata": {},
   "source": [
    "### Interaction between PRC-intact and -lesioned subjects"
   ]
  },
  {
   "cell_type": "code",
   "execution_count": 84,
   "metadata": {},
   "outputs": [
    {
     "data": {
      "text/markdown": [
       "$R^{2}_{model} = 0.68$, $\\beta = 0.59$, $F(3, 24)$ = $2.97, p < 7 $ x $ 10 ^{-3} $"
      ],
      "text/plain": [
       "<IPython.core.display.Markdown object>"
      ]
     },
     "execution_count": 84,
     "metadata": {},
     "output_type": "execute_result"
    }
   ],
   "source": [
    "tmpdf = pandas.DataFrame(\n",
    "    {'model': np.concatenate((meta_df[it_layer], meta_df[it_layer])), \n",
    "     'human': np.concatenate((meta_df['prc_lesion'], meta_df['prc_intact'])),\n",
    "     'group': np.concatenate([np.repeat('lesion',n_), np.repeat('intact', n_)])})\n",
    "prcinteraction = smf.ols(\"human ~ model * group\", tmpdf).fit()\n",
    "show_model_parameters(prcinteraction)[0]"
   ]
  },
  {
   "cell_type": "code",
   "execution_count": 85,
   "metadata": {},
   "outputs": [
    {
     "data": {
      "text/markdown": [
       "$R^{2}_{model} = 0.27$, $\\beta = 0.05$, $F(3, 24)$ = $0.23, p > .05$"
      ],
      "text/plain": [
       "<IPython.core.display.Markdown object>"
      ]
     },
     "execution_count": 85,
     "metadata": {},
     "output_type": "execute_result"
    }
   ],
   "source": [
    "tmpdf = pandas.DataFrame(\n",
    "    {'model': np.concatenate((meta_df[it_layer], meta_df[it_layer])), \n",
    "     'human': np.concatenate((meta_df['hpc_lesion'], meta_df['hpc_intact'])),\n",
    "     'group': np.concatenate([np.repeat('lesion',n_), np.repeat('intact', n_)])})\n",
    "hpcinteraction = smf.ols(\"human ~ model * group\", tmpdf).fit()\n",
    "show_model_parameters(hpcinteraction)[0]"
   ]
  },
  {
   "cell_type": "markdown",
   "metadata": {},
   "source": [
    "### PRC-dependence scales with model performance"
   ]
  },
  {
   "cell_type": "code",
   "execution_count": 86,
   "metadata": {},
   "outputs": [
    {
     "data": {
      "text/markdown": [
       "$R^{2}_{model} = 0.49$, $\\beta = -0.59$, $F(1, 12)$ = $-3.40, p < 6 $ x $ 10 ^{-3} $"
      ],
      "text/plain": [
       "<IPython.core.display.Markdown object>"
      ]
     },
     "execution_count": 86,
     "metadata": {},
     "output_type": "execute_result"
    }
   ],
   "source": [
    "linear_dependence = smf.ols('prc_delta ~ %s '%(it_layer), meta_df).fit()\n",
    "show_model_parameters(linear_dependence)[0]"
   ]
  },
  {
   "cell_type": "code",
   "execution_count": 87,
   "metadata": {},
   "outputs": [
    {
     "data": {
      "text/markdown": [
       "$R^{2}_{model} = 0.49$, $\\beta = -0.59$, $F(1, 12)$ = $-3.40, p < 6 $ x $ 10 ^{-3} $"
      ],
      "text/plain": [
       "<IPython.core.display.Markdown object>"
      ]
     },
     "execution_count": 87,
     "metadata": {},
     "output_type": "execute_result"
    }
   ],
   "source": [
    "linear_dependence = smf.ols('prc_delta ~ %s '%(it_layer), meta_df).fit()\n",
    "show_model_parameters(linear_dependence)[0]"
   ]
  },
  {
   "cell_type": "markdown",
   "metadata": {},
   "source": [
    "### Model performance does not predict HPC-related behavior"
   ]
  },
  {
   "cell_type": "code",
   "execution_count": 88,
   "metadata": {},
   "outputs": [
    {
     "data": {
      "text/markdown": [
       "$R^{2}_{model} = 0.03$, $\\beta = -0.05$, $F(1, 12)$ = $-0.62, p > .05$"
      ],
      "text/plain": [
       "<IPython.core.display.Markdown object>"
      ]
     },
     "execution_count": 88,
     "metadata": {},
     "output_type": "execute_result"
    }
   ],
   "source": [
    "linear_dependence = smf.ols('hpc_delta ~ %s '%(it_layer), meta_df).fit()\n",
    "show_model_parameters(linear_dependence)[0]"
   ]
  },
  {
   "cell_type": "code",
   "execution_count": 89,
   "metadata": {},
   "outputs": [
    {
     "data": {
      "text/markdown": [
       "$R^{2}_{model} = 0.03$, $\\beta = -0.05$, $F(1, 12)$ = $-0.62, p > .05$"
      ],
      "text/plain": [
       "<IPython.core.display.Markdown object>"
      ]
     },
     "execution_count": 89,
     "metadata": {},
     "output_type": "execute_result"
    }
   ],
   "source": [
    "linear_dependence = smf.ols('hpc_delta ~ %s '%(it_layer), meta_df).fit()\n",
    "show_model_parameters(linear_dependence)[0]"
   ]
  },
  {
   "cell_type": "code",
   "execution_count": 90,
   "metadata": {},
   "outputs": [],
   "source": [
    "for group in ['prc', 'hpc']: \n",
    "    color_range = {'prc':['#4B0082', '#FF1493'], 'hpc':['#5d13e7', '#1ee3cf']}[group]\n",
    "    colors = [i.rgb for i in colour.Color(color_range[0]).range_to(colour.Color(color_range[1]), len(meta_statistics))]\n",
    "    meta_statistics['%s_colors'%group] = colors\n",
    "    \n",
    "    \n",
    "    "
   ]
  },
  {
   "cell_type": "markdown",
   "metadata": {},
   "source": [
    "# Visualize Main Finding"
   ]
  },
  {
   "cell_type": "code",
   "execution_count": 91,
   "metadata": {},
   "outputs": [],
   "source": [
    "def meta_analytic_results(i_layer, i, l, c): \n",
    "    \n",
    "    # helper function\n",
    "    def plot_nice_line(model_, params={}, title=''): \n",
    "        m, b = model_.coef_[0], model_.intercept_[0]\n",
    "        xs = np.array([0, min(1 , ( ( 1 - b) / m ))])  \n",
    "        return plt.plot(xs, xs * m + b, **params, \n",
    "                        solid_capstyle = ['butt','round','projecting'][1])\n",
    "    \n",
    "    # helper function\n",
    "    def plot_diagonal(label=''): \n",
    "        return plt.plot([0, 1], [0, 1], color='grey', \n",
    "                        linestyle='--', zorder=-1, label=label)\n",
    "\n",
    "    # data \n",
    "    mod_ = meta_df[i_layer].values\n",
    "    prc_ = meta_df['prc_lesion'].values\n",
    "    hpc_ = meta_df['hpc_lesion'].values\n",
    "    con_prc = meta_df['prc_intact'].values\n",
    "    con_hpc = meta_df['hpc_intact'].values\n",
    "    \n",
    "    fig = plt.figure(constrained_layout=True, figsize=[7.5, 4])\n",
    "    gs = fig.add_gridspec(2, 4) \n",
    "\n",
    "    y_lim = (-.05, 1.05)\n",
    "    prc_c = '#9a2487'\n",
    "    con_c = '#a3a3a3' \n",
    "    hpc_c = '#037397'\n",
    "    x_model_name = 'Model Performance'\n",
    "    xy_lsize = 12\n",
    "    p_width = 1\n",
    "    p_size = 30\n",
    "    l_width = 5\n",
    "    t_size = 8\n",
    "    xlabelpad = 10 \n",
    "    ylabelpad = 4\n",
    "    _alpha = .9\n",
    "    nd_lwidth=.7\n",
    "    \n",
    "    ################\n",
    "    ax = fig.add_subplot(gs[0:2, 0:2]); \n",
    "    \n",
    "    con_c = '#dadada'#'#d1d1d1'\n",
    "    point_params = {'s':p_size,'linewidth':p_width, 'zorder':-2, 'facecolor':con_c, 'edgecolor':'white',}\n",
    "    prccon_model_ = LinearRegression().fit(np.reshape(mod_, (-1,1)), np.reshape(con_prc, (-1, 1)))\n",
    "    points = plt.scatter(x = mod_, y = con_prc, **point_params) \n",
    "    prediction_line = plot_diagonal() \n",
    "    line_params = {'linewidth':l_width,'color':con_c,'label':'PRC-intact', 'alpha':_alpha, 'zorder':-3}\n",
    "    con_line = plot_nice_line(prccon_model_, line_params)\n",
    "    plt.plot([0, 1], [0, 1], linestyle='--', color='grey', zorder=-2)\n",
    "    # prc-lesion data\n",
    "    point_params = {'s':p_size,'linewidth':p_width, 'zorder':2, 'facecolor':prc_c, 'edgecolor':'white'}\n",
    "    prc_model_ = LinearRegression().fit(np.reshape(mod_, (-1,1)), np.reshape(prc_, (-1, 1)))\n",
    "    _params = {'linewidth':l_width, 'zorder':-1, 'color':prc_c, 'alpha':_alpha, 'label':'PRC-lesion'}\n",
    "    prc_line = plot_nice_line(prc_model_, _params)\n",
    "    plt.scatter(x = mod_, y = prc_, **point_params) \n",
    "    # aesthetics\n",
    "    plt.xlabel(x_model_name, fontsize=xy_lsize, labelpad=xlabelpad)\n",
    "    plt.ylabel('Human Performance', fontsize=xy_lsize, labelpad=ylabelpad)\n",
    "    #plt.title('PRC-Lesioned Behavior\\n'  , fontsize=t_size, y=1.05)\n",
    "    plt.ylim(y_lim) \n",
    "\n",
    "    plt.xticks(size=t_size); plt.yticks(size=t_size)\n",
    "    ax.text(-0.05, 1.06, ['a','b','c', 'd'][0], transform=ax.transAxes,fontsize=12, va='top', ha='right')\n",
    "    \n",
    "    plt.scatter(np.repeat(1., len(i)), i, facecolor='white', edgecolor=con_c, s=p_size-10,linewidth=nd_lwidth)\n",
    "    plt.scatter(np.repeat(1., len(l)), l, facecolor='white', edgecolor=prc_c,s=p_size-10,linewidth=nd_lwidth)\n",
    "    \n",
    "    plt.legend(fontsize=10, title_fontsize=8, framealpha=0, loc=4)\n",
    "    \n",
    "    ################\n",
    "    ax = fig.add_subplot(gs[0:2, 2:4]); \n",
    "    \n",
    "    # mtl-intact data\n",
    "    con_c = '#d1d1d1'\n",
    "    point_params = {'s':p_size,'linewidth':p_width, 'zorder':-5, 'facecolor':con_c, 'edgecolor':'white'}\n",
    "    A = plt.scatter(x = mod_, y = con_hpc, **point_params )\n",
    "    con_model_ = LinearRegression().fit(np.reshape(mod_, (-1,1)), np.reshape(con_hpc, (-1, 1)))\n",
    "    line_params = {'linewidth':l_width,'color':con_c,'label':'HPC-intact', 'alpha':_alpha, 'zorder':0}\n",
    "    plot_nice_line(con_model_, line_params)\n",
    "    # hpc-lesion data\n",
    "    point_params = {'s':p_size,'linewidth':p_width, 'zorder':2, 'facecolor':hpc_c, 'edgecolor':'white'}\n",
    "    plt.scatter(x = mod_, y = hpc_, **point_params); \n",
    "    hpc_model_ = LinearRegression().fit(np.reshape(mod_, (-1,1)), np.reshape(hpc_, (-1, 1)))\n",
    "    line_params = {'linewidth':l_width, 'zorder':1, 'color':hpc_c, 'label':'HPC-lesion', 'alpha':_alpha}\n",
    "    plot_nice_line(hpc_model_, line_params)\n",
    "    # aesthetics\n",
    "    plot_diagonal()\n",
    "    plt.ylim(y_lim)\n",
    "    \n",
    "    plt.xlabel(x_model_name, fontsize=xy_lsize, labelpad=xlabelpad)\n",
    "    L1 = plt.legend(title='', fontsize=10, title_fontsize=10, framealpha=0, loc=4)\n",
    "    plt.xticks(size=t_size); plt.yticks(size=t_size)\n",
    "    ax.text(-0.05, 1.06, ['a','b','c', 'd'][1], transform=ax.transAxes,fontsize=12, va='top', ha='right')\n",
    "    \n",
    "    plt.scatter(np.repeat(1., len(i)), i, facecolor='white', edgecolor=con_c, s=p_size-10, linewidth=nd_lwidth)\n",
    "    plt.scatter(np.repeat(1., len(c)), c, facecolor='white', edgecolor=hpc_c,s=p_size-10, linewidth=nd_lwidth)\n",
    "        \n",
    "    filename = 'prc_mtl_intact_compact_%s.pdf'%i_layer\n",
    "    save_name = os.path.join(_location, filename)\n",
    "    plt.savefig(save_name, format='pdf', bbox_inches = \"tight\")"
   ]
  },
  {
   "cell_type": "code",
   "execution_count": 92,
   "metadata": {},
   "outputs": [
    {
     "data": {
      "image/png": "[encoded data removed]",
      "text/plain": [
       "<Figure size 540x288 with 2 Axes>"
      ]
     },
     "metadata": {
      "needs_background": "light"
     },
     "output_type": "display_data"
    }
   ],
   "source": [
    "meta_analytic_results(it_layer, \n",
    "                      nondiagnostic['flat']['intact'], \n",
    "                      nondiagnostic['flat']['lesion'], \n",
    "                      nondiagnostic['flat']['control']) "
   ]
  },
  {
   "cell_type": "markdown",
   "metadata": {},
   "source": [
    "### A \"V4-like\" model layer also predict the behavior of PRC-intact subjects"
   ]
  },
  {
   "cell_type": "code",
   "execution_count": 93,
   "metadata": {},
   "outputs": [
    {
     "data": {
      "image/png": "[encoded data removed]",
      "text/plain": [
       "<Figure size 540x288 with 2 Axes>"
      ]
     },
     "metadata": {
      "needs_background": "light"
     },
     "output_type": "display_data"
    }
   ],
   "source": [
    "meta_analytic_results(v4_layer,\n",
    "                      nondiagnostic['flat']['intact'], \n",
    "                      nondiagnostic['flat']['lesion'], \n",
    "                      nondiagnostic['flat']['control']) "
   ]
  },
  {
   "cell_type": "code",
   "execution_count": 94,
   "metadata": {},
   "outputs": [
    {
     "data": {
      "text/plain": [
       "array([-0.33713237, -0.33052783, -0.30254698, -0.31201824, -0.27956173,\n",
       "       -0.27183885, -0.22166746, -0.23084546, -0.15547754, -0.1111334 ,\n",
       "       -0.05740935, -0.03486632,  0.06387811,  0.12668262,  0.14044398,\n",
       "        0.15106274,  0.20275476,  0.22931552,  0.21621559])"
      ]
     },
     "execution_count": 94,
     "metadata": {},
     "output_type": "execute_result"
    }
   ],
   "source": [
    "pls_fits['delta']"
   ]
  },
  {
   "cell_type": "markdown",
   "metadata": {},
   "source": [
    "# Focal Anatomical Dependencies"
   ]
  },
  {
   "cell_type": "code",
   "execution_count": 95,
   "metadata": {},
   "outputs": [],
   "source": [
    "def annotate(region): \n",
    "    _xy = pls_fits[region]['mu']\n",
    "    plt.annotate(\"'%s-like'\"%region.upper(), \n",
    "                 xy=(argmax(_xy)-.8, max(_xy)+.08), \n",
    "                 size=7, rotation=0, color='grey')\n",
    "    plt.scatter(x=argmax(_xy), y=max(_xy), \n",
    "                marker='|', color='black', s=200, linewidth=.5)\n",
    "    \n",
    "def layer_plot(layer_fit, ax): \n",
    "    \n",
    "    v4_color='black'\n",
    "    it_color='black'\n",
    "    n_layers = len(layer_fit['layers'])\n",
    "    alpha=.1\n",
    "    \n",
    "    v4 = layer_fit['v4']\n",
    "    it = layer_fit['it']\n",
    "    delta = layer_fit['delta']\n",
    "    \n",
    "    # V4 \n",
    "    plt.plot(v4['mu'], color=v4_color, linestyle='--', linewidth=1, alpha=1, label='V4') \n",
    "    v4_min = v4['mu']-(v4['std']/np.sqrt(n_layers))\n",
    "    v4_max = v4['mu']+(v4['std']/np.sqrt(n_layers))\n",
    "    \n",
    "    plt.fill_between(x=range(n_layers),y1=v4_min, y2=v4_max, \n",
    "                     color=v4_color, alpha=alpha, edgecolor='')\n",
    "    \n",
    "    annotate('v4')\n",
    "    \n",
    "    # IT \n",
    "    plt.plot(it['mu'], color=it_color, linestyle='-', linewidth=1, alpha=1, label='IT') \n",
    "    it_min = it['mu']-(it['std']/np.sqrt(n_layers))\n",
    "    it_max = it['mu']+(it['std']/np.sqrt(n_layers))\n",
    "    \n",
    "    plt.fill_between(x=range(n_layers),y1=it_min, y2=it_max, \n",
    "                     color=it_color, alpha=alpha, edgecolor='')\n",
    "\n",
    "    annotate('it')\n",
    "    \n",
    "    # DELTA \n",
    "    import matplotlib.patheffects as pe\n",
    "    params = {'solid_capstyle':'round', 'linewidth':5, 'zorder':1,}\n",
    "    plt.plot(range(n_layers), delta, color='white', \n",
    "             path_effects=[matplotlib.patheffects.Stroke(linewidth=3, foreground='black'), pe.Normal()], \n",
    "             label='$\\Delta_{IT - V4}$')\n",
    "    plt.ylim(min(delta)-.1, max(v4['mu'])+.15)\n",
    "    \n",
    "    # AESTHETICS\n",
    "    plt.yticks(size=6)\n",
    "    plt.ylabel('Cross-validated fit to Neural Data', labelpad=0, fontsize=11)\n",
    "    plt.xlabel(\"Model Layer\", labelpad=5, fontsize=10)\n",
    "    plt.xticks(range(n_layers), pls_fits['layers'], rotation=90, fontsize=7);\n",
    "    plt.legend(framealpha=0, fontsize=9, title_fontsize=9,loc=4)"
   ]
  },
  {
   "cell_type": "code",
   "execution_count": null,
   "metadata": {},
   "outputs": [],
   "source": []
  },
  {
   "cell_type": "code",
   "execution_count": 96,
   "metadata": {},
   "outputs": [],
   "source": [
    "def show_layer_fit(i_layer, group, show_x=0, show_y=0, show_tag=0): \n",
    "    \n",
    "    xleg = {'pool1':'(Pre \\'V4-like\\' Layer)', \n",
    "            'pool3':'(\\'V4-like\\' Layer)', \n",
    "            'conv5_1': '(\\'IT-like\\' Layer)' ,\n",
    "            'fc7':'(Latter \\'IT-like\\' Layer)'}\n",
    "    \n",
    "    y_tag = 'Human Performance'#%group.upper()\n",
    "    l_tag = '%s-lesioned'%group.upper()\n",
    "    x_layer = meta_df[i_layer].values\n",
    "    y_intact = meta_df['%s_intact'%group].values\n",
    "    y_lesion = meta_df['%s_lesion'%group].values\n",
    "    i_color = meta_statistics['%s_colors'%group].values[np.nonzero( meta_statistics.layer.values == i_layer )[0][0]]\n",
    "\n",
    "    l_line = LinearRegression().fit(np.reshape(x_layer, (-1,1)), np.reshape(y_lesion, (-1, 1)))\n",
    "    i_line = LinearRegression().fit(np.reshape(x_layer, (-1,1)), np.reshape(y_intact, (-1, 1)))\n",
    "    params = {'facecolor':i_color, 'edgecolor':'white', 's':5, 'linewidth':.2, 'zorder':10}\n",
    "\n",
    "    plt.scatter(x = x_layer, y = y_lesion, **params)\n",
    "    plt.plot((0, 1), (0, 1), color='grey', linestyle='--', linewidth=.6, alpha=.5) \n",
    "\n",
    "    line_params = {'solid_capstyle':'round', 'linewidth':3}\n",
    "    xs = np.array([0, min(1 , ( ( 1 - l_line.intercept_[0] ) / l_line.coef_[0] ))] ) \n",
    "    plt.plot(xs, xs * l_line.coef_[0] + l_line.intercept_[0], color=i_color, **line_params, label='patient')\n",
    "    intact_params = {'color': 'lightgrey', 'alpha':1, 'zorder':-5}\n",
    "\n",
    "    xs = np.array([0, min(1 , ( ( 1 - i_line.intercept_[0] ) / i_line.coef_[0] ))] ) \n",
    "    plt.plot(xs, xs * i_line.coef_[0] + i_line.intercept_[0], **line_params, **intact_params)\n",
    "    plt.plot([], [] , **line_params, **intact_params,label='control')\n",
    "    plt.scatter(x = x_layer, y = y_intact, facecolor='lightgrey',s=5, linewidth=.5, edgecolor='', zorder=-2)\n",
    "\n",
    "    if show_y: \n",
    "        plt.yticks([0.0, .5, 1.0], [0.0, .5, 1.0], size=7)\n",
    "        plt.ylabel('%s'%y_tag, labelpad=5, fontsize=9, x=10)\n",
    "        plt.legend( loc=4, framealpha=0, fontsize=7, title_fontsize=7, title=l_tag)\n",
    "    else: \n",
    "        plt.yticks([])\n",
    "    \n",
    "    plt.ylim([-.1, 1.1]); plt.xlim([-.1, 1.1])\n",
    "    if group=='hpc': \n",
    "        plt.xticks(fontsize=7)\n",
    "        plt.xlabel('Model$_{%s}$ Performance\\n %s' %(i_layer, xleg[i_layer]), labelpad=7, fontsize=9)\n",
    "    else: \n",
    "        plt.xticks([])"
   ]
  },
  {
   "cell_type": "code",
   "execution_count": 101,
   "metadata": {},
   "outputs": [],
   "source": [
    "def gradient_show(): \n",
    "    \n",
    "    y_start = .063\n",
    "    prc_offset = .007\n",
    "    y_center=.0015\n",
    "    x_start = -.30\n",
    "    x_shift = .09\n",
    "    l_fontsize=6\n",
    "\n",
    "    colors = [i.rgb for i in colour.Color('#4B0082').range_to(colour.Color('#FF1493'), 20)]\n",
    "    [plt.plot(np.array([i, i+1])/300+x_start,(y_start+prc_offset, y_start+prc_offset), color=colors[i], linewidth=4) for i in range(len(colors))]; \n",
    "    plt.annotate('PRC', xy=(x_start+x_shift, y_start+prc_offset-y_center), fontsize=l_fontsize)\n",
    "    cs = [i.rgb for i in colour.Color('darkblue').range_to(colour.Color('#00FFFF'), 20)]\n",
    "    [plt.plot(np.array([i, i+1])/300+x_start,(y_start, y_start), color=cs[i], linewidth=4) for i in range(len(cs))]; \n",
    "    plt.annotate('HPC', xy=(x_start+x_shift,y_start-y_center), fontsize=l_fontsize)\n",
    "    plt.annotate('Lesion Group', xy=(x_start-.035, y_start+prc_offset*2), fontsize=l_fontsize)\n",
    "    \n",
    "\n",
    "def nice_legends(meta_statistics): \n",
    "    plt.scatter([], [], s=20,  linewidth=.7, facecolor='white', edgecolor='black', label='p$_{corrected}$ < 0.05')\n",
    "    #plt.scatter([], [], **plot_params, **color_params, facecolor='white', edgecolor='lightgrey', label='non-significant')\n",
    "    plt.legend(title='Interaction', framealpha=0, title_fontsize=l_fontsize, fontsize=l_fontsize-1, \n",
    "               loc=3, bbox_to_anchor=[.45, .335]) # 'Interaction ('r'$\\alpha$''=.05)'\n",
    "\n",
    "    for region in ['it', 'v4']: \n",
    "\n",
    "        i_layer = {'it':it_layer, 'v4':v4_layer}[region]\n",
    "        i_index = np.nonzero(np.array(pls_fits['layers']) == i_layer)[0][0]\n",
    "\n",
    "        __y = meta_statistics[meta_statistics.layer==i_layer].prc_delta_rmse.values[0]\n",
    "        __x = pls_fits['delta'][i_index]\n",
    "        \n",
    "        y_offset = __y+[-.02, .02][region=='v4']\n",
    "        plt.annotate(\"'%s-like' Layer\"%region.upper(), \n",
    "                     xy=(__x-.06, y_offset), fontsize=l_fontsize, color='grey',  \n",
    "                     bbox={'alpha':1, 'color':'white'})\n",
    "        plt.plot([__x, __x], [__y, y_offset], linewidth=.5, alpha=.3, linestyle=\":\", zorder=-3, color='black')"
   ]
  },
  {
   "cell_type": "markdown",
   "metadata": {},
   "source": [
    "### relate model, electrophysiological, and retrospective data"
   ]
  },
  {
   "cell_type": "code",
   "execution_count": 105,
   "metadata": {},
   "outputs": [
    {
     "data": {
      "image/png": "[encoded data removed]",
      "text/plain": [
       "<Figure size 972x288 with 10 Axes>"
      ]
     },
     "metadata": {
      "needs_background": "light"
     },
     "output_type": "display_data"
    }
   ],
   "source": [
    "fig = plt.figure(constrained_layout=True, figsize=[13.5, 4])\n",
    "gs = fig.add_gridspec(2, 8) \n",
    "\n",
    "# MODEL FITS TO ELECTROPHYSIOLOGICAL DATA\n",
    "ax = fig.add_subplot(gs[0:2, 0:2]); \n",
    "order = pls_fits['layers']\n",
    "layer_plot(pls_fits, ax) \n",
    "ax.text(-0.08, 1.05, 'a', transform=ax.transAxes, fontsize=13, va='top', ha='right')\n",
    "\n",
    "# LAYER FITS TO PRC-LESIONED PERFORMENCE\n",
    "f_ax = fig.add_subplot(gs[0:1, 2:3])\n",
    "show_layer_fit('pool1', 'prc', show_y=1)\n",
    "f_ax.text(-0.08, 1.10, 'b', transform=f_ax.transAxes,fontsize=13, va='top', ha='right')\n",
    "f_ax = fig.add_subplot(gs[0:1, 3:4])\n",
    "show_layer_fit('pool3', 'prc', show_tag=1)\n",
    "f_ax = fig.add_subplot(gs[0:1, 4:5])\n",
    "show_layer_fit('conv5_1', 'prc')\n",
    "f_ax = fig.add_subplot(gs[0:1, 5:6])\n",
    "show_layer_fit('fc7', 'prc')\n",
    "plt.annotate('    significant interaction \\n        between slopes', \n",
    "             xy=(.17, -.05), fontsize=6, color='black')\n",
    "\n",
    "# LAYER FITS TO HPC-LESIONED PERFORMENCE\n",
    "f_ax = fig.add_subplot(gs[1:2, 2:3])\n",
    "show_layer_fit('pool1', 'hpc', show_x=1, show_y=1)\n",
    "f_ax = fig.add_subplot(gs[1:2, 3:4])\n",
    "show_layer_fit('pool3', 'hpc', show_x=1, show_tag=1)\n",
    "f_ax = fig.add_subplot(gs[1:2, 4:5])\n",
    "show_layer_fit('conv5_1','hpc', show_x=1, show_tag=1)\n",
    "f_ax = fig.add_subplot(gs[1:2, 5:6])\n",
    "show_layer_fit('fc7', 'hpc')\n",
    "plt.annotate(' non-significant interaction \\n          between slopes ', \n",
    "             xy=(.17, -.05), fontsize=6, color='grey')\n",
    "\n",
    "# RELATING ELECTROPHYSIOLOGICAL DATA TO HUMAN BEHAVIOR\n",
    "f_ax = fig.add_subplot(gs[0:2, 7:8])\n",
    "f_ax.text(-0.08, 1.05, 'c', transform=f_ax.transAxes,fontsize=13, va='top', ha='right')\n",
    "\n",
    "# only extract human fits to model layers that have fits to electrophysiological data\n",
    "_meta = meta_statistics[np.nonzero(meta_statistics.layer == pls_fits['layers'][0])[0][0]:] \n",
    "\n",
    "# params for both plots\n",
    "i_size = 30\n",
    "l_fontsize=6\n",
    "plot_params = {'marker':'o', 's':i_size}\n",
    "color_params = {'linewidth':.5}\n",
    "_plsfits = pls_fits['delta']\n",
    "x_label_size = 12\n",
    "\n",
    "#### PRC DATA \n",
    "alphas = (.05/len(pls_fits['it']['mu']))\n",
    "p_corrected = np.array(_meta['prc_interaction']) < alphas\n",
    "_prc = _meta['prc_intact_rmse'] - _meta['prc_lesion_rmse']\n",
    "sig_line = [['white', 'black'][i==True] for i in p_corrected]\n",
    "lwidth = [[.5,1][i==True] for i in p_corrected]\n",
    "plt.scatter(_plsfits, _prc, **plot_params, linewidth=lwidth, \n",
    "            facecolor=_meta['prc_colors'], edgecolor=sig_line)\n",
    "\n",
    "#### HPC DATA \n",
    "p_corrected = np.array(_meta['hpc_interaction']) < _alpha \n",
    "sig_line = [['white', 'black'][i==True] for i in p_corrected]\n",
    "_hpc = _meta['hpc_intact_rmse'] - _meta['hpc_lesion_rmse']\n",
    "plt.scatter(_plsfits, _hpc, **plot_params, **color_params, \n",
    "            facecolor=_meta['hpc_colors'], edgecolor=sig_line)\n",
    " \n",
    "### AESTHETICS \n",
    "plt.xticks(size=6)\n",
    "plt.yticks(fontsize=5)\n",
    "x_label = 'Differential Neural Fit\\n$\\Delta_{IT - V4}$'\n",
    "plt.xlabel(x_label, fontsize=10, labelpad=5)\n",
    "plt.ylabel('Differential Fit to Human Behavior\\n$\\Delta_{intact-lesion}$', \n",
    "           fontsize=10.5, labelpad=5) \n",
    "plt.ylim(-.005, .191)\n",
    "\n",
    "gradient_show()\n",
    "nice_legends(_meta)\n",
    "save_location = os.path.join(_location, 'focal_vvs_dependence.pdf')\n",
    "plt.savefig(save_location, format='pdf', bbox_inches = \"tight\")"
   ]
  },
  {
   "cell_type": "markdown",
   "metadata": {},
   "source": [
    "## Novel diagnostic experiment"
   ]
  },
  {
   "cell_type": "code",
   "execution_count": 113,
   "metadata": {},
   "outputs": [],
   "source": [
    "with open('electrophysiological/summaries.pkl', 'rb') as handle:\n",
    "    summaries = pickle.load(handle)"
   ]
  },
  {
   "cell_type": "code",
   "execution_count": 114,
   "metadata": {},
   "outputs": [],
   "source": [
    "_X = [] \n",
    "_Y = [] \n",
    "_L = [] \n",
    "_C = [] \n",
    "selected_categories = [ 'Faces', 'Planes', 'Chairs',   'Animals'] # list( summaries )# \n",
    "for i_category in list( summaries ): \n",
    "    for i_typical in summaries[i_category]: \n",
    "        for i_oddity in summaries[i_category][i_typical]: \n",
    "            _Y.append(np.mean(summaries[i_category][i_typical][i_oddity]['linear_accuracy']))\n",
    "            _X.append(np.mean(summaries[i_category][i_typical][i_oddity]['distance_accuracy']))\n",
    "            _L.append(i_typical)\n",
    "            _C.append(i_category)"
   ]
  },
  {
   "cell_type": "code",
   "execution_count": 115,
   "metadata": {},
   "outputs": [],
   "source": [
    "_unweighted_transform = LinearRegression().fit(np.reshape(_X, (-1,1)), np.reshape(_Y, (-1, 1)))"
   ]
  },
  {
   "cell_type": "code",
   "execution_count": null,
   "metadata": {},
   "outputs": [],
   "source": []
  },
  {
   "cell_type": "code",
   "execution_count": 116,
   "metadata": {
    "scrolled": true
   },
   "outputs": [
    {
     "data": {
      "image/png": "[encoded data removed]",
      "text/plain": [
       "<Figure size 648x288 with 2 Axes>"
      ]
     },
     "metadata": {
      "needs_background": "light"
     },
     "output_type": "display_data"
    }
   ],
   "source": [
    "def plot_nice_line(model_, params={}, lim=0, title=''): \n",
    "    m, b = model_.coef_[0], model_.intercept_[0]\n",
    "    xs = np.array([lim, min(1 , ( ( 1 - b) / m ))])  \n",
    "    plt.plot(xs, xs * m + b, **params)\n",
    "        \n",
    "lw = 5\n",
    "label_size = 9\n",
    "label_height = 1.03\n",
    "label_dist = -.14\n",
    "\n",
    "###\n",
    "fig = plt.figure(figsize=[9,4])\n",
    "ax = fig.add_subplot(121)\n",
    "plt.scatter(x=_X, y=_Y, facecolor='lightgrey', edgecolor='', linewidth=0, s=30)\n",
    "plt.scatter(x=_X, y=_Y, facecolor='black', edgecolor='', linewidth=.2, s=15)\n",
    "plot_nice_line(_unweighted_transform, \n",
    "               {'linewidth':lw, 'alpha':1, 'color':'#229aa6', 'solid_capstyle': 'round', 'zorder':-5, \n",
    "                'label':'transform'}, \n",
    "               lim=.2)\n",
    "[plt.scatter([], [], )]\n",
    "#plt.legend()\n",
    "prc_color = ('#a6229a', '#72249a') [0]\n",
    "prc_old = '#b2b2b2'\n",
    "hpc_color = '#a3a3a3'#('#032997', '#037397') [1]\n",
    "#plt.plot([.3, .3], [.2, 1], linestyle=':', color='grey', linewidth=.5, zorder=-1)\n",
    "#plt.plot([.2, 1], [.3, .3], linestyle=':', color='grey', linewidth=.5, zorder=-1, label='chance')\n",
    "plt.xlabel(r'Model Performance$_{unweighted}$')\n",
    "plt.ylabel(r'Model Performance$_{weighted}$')\n",
    "plt.plot([.3, 1], [.3, 1], linestyle='--', color='grey', zorder=-3, label='prediction', linewidth=.8, alpha=.8)\n",
    "plt.xticks(fontsize=7);\n",
    "plt.yticks(fontsize=7);\n",
    "\n",
    "plt.legend(framealpha=0, fontsize=8, title='Readout', title_fontsize=9)\n",
    "ax.text(-0.05, 1.08, ['a','b','c'][0], transform=ax.transAxes,fontsize=12, va='top', ha='right')\n",
    "\n",
    "    \n",
    "\n",
    "ax = fig.add_subplot(122)\n",
    "_x = meta_df[it_layer].values\n",
    "_y = meta_df['prc_lesion'].values\n",
    "linestyle = ':'\n",
    "\n",
    "\n",
    "_model = LinearRegression().fit(np.reshape(_x, (-1,1)), np.reshape(_y, (-1, 1)))\n",
    "plot_nice_line(_model, {'color':prc_color, 'linestyle':linestyle, \n",
    "                        'linewidth':lw-3, 'label':'unweighted', 'zorder':1, 'alpha':.8, 'solid_capstyle': 'round'})\n",
    "transformed_x = [min(i[0], 1) for i in list(_unweighted_transform.predict(np.expand_dims(meta_df[it_layer], 1)))]\n",
    "\n",
    "_model = LinearRegression().fit(np.reshape(transformed_x, (-1,1)), np.reshape(_y, (-1, 1)))\n",
    "plot_nice_line(_model, {'color':prc_color, 'alpha':1, 'linewidth':lw,\n",
    "                        'label':'transformed', 'alpha':.8, 'solid_capstyle': 'round', 'zorder':3})\n",
    "transformed_legend = plt.legend(framealpha=0, loc=4, title='Fit to Behavior', title_fontsize=8, fontsize=7) \n",
    "\n",
    "\n",
    "\n",
    "_y = meta_df['prc_intact'].values\n",
    "_model = LinearRegression().fit(np.reshape(_x, (-1,1)), np.reshape(_y, (-1, 1)))\n",
    "plot_nice_line(_model, {'color':hpc_color, 'alpha':1, 'linewidth':lw-3, 'linestyle':linestyle, \n",
    "                        'zorder':-3, 'solid_capstyle': 'round'})\n",
    "_model = LinearRegression().fit(np.reshape(transformed_x, (-1,1)), np.reshape(_y, (-1, 1)))\n",
    "\n",
    "plot_nice_line(_model, {'color':hpc_color, 'alpha':.8,  'linewidth':lw, \n",
    "                        'alpha':1, 'zorder':2, 'solid_capstyle': 'round', })\n",
    "\n",
    "plt.plot([0, 1], [0, 1], linestyle='--', color='grey', zorder=-3,)\n",
    "plt.xlabel('Model Performance')\n",
    "plt.ylabel('Human Performance')\n",
    "plt.xticks(fontsize=7);\n",
    "plt.yticks(fontsize=7);\n",
    "\n",
    "ax.text(-0.05, 1.08, ['a','b','c'][1], transform=ax.transAxes,fontsize=12, va='top', ha='right')\n",
    "\n",
    "# # Add first legend:  only labeled data is included\n",
    "# leg1 = ax.legend(loc='lower left')\n",
    "# # Add second legend for the maxes and mins.\n",
    "# # leg1 will be removed from figure\n",
    "# leg2 = ax.legend([maxline,minline],['max','min'], loc='upper right')\n",
    "# # Manually add the first legend back\n",
    "# ax.add_artist(leg1)\n",
    "\n",
    "_a, = plt.plot([],[], **{'color':prc_color, 'alpha':.8, 'linewidth':lw,\n",
    "                        'label':'transformed', 'solid_capstyle': 'round', 'zorder':-5})\n",
    "\n",
    "_b, = plt.plot([],[], **{'color':hpc_color, 'alpha':1, 'linewidth':lw, \n",
    "                        'alpha':1, 'zorder':1, 'solid_capstyle': 'round'})\n",
    "\n",
    "\n",
    "leg2 = ax.legend([_b,_a],['prc-intact', 'prc-lesion'], bbox_to_anchor=[1, .40], title='Group', \n",
    "                framealpha=0, title_fontsize=9, fontsize=8)\n",
    "\n",
    "ax.add_artist( transformed_legend )\n",
    "save_location = os.path.join(_location, 'weighted_unweighted_transform.pdf')\n",
    "plt.savefig(save_location, format='pdf', bbox_inches = \"tight\")"
   ]
  },
  {
   "cell_type": "code",
   "execution_count": null,
   "metadata": {},
   "outputs": [],
   "source": []
  },
  {
   "cell_type": "code",
   "execution_count": null,
   "metadata": {},
   "outputs": [],
   "source": []
  },
  {
   "cell_type": "code",
   "execution_count": 117,
   "metadata": {},
   "outputs": [
    {
     "data": {
      "text/plain": [
       "'$R^{2}_{model} = 0.78$, $\\\\beta = 0.94$, $F(2, 25)$ = $9.29, p < 2 $ x $ 10 ^{-9} $'"
      ]
     },
     "execution_count": 117,
     "metadata": {},
     "output_type": "execute_result"
    }
   ],
   "source": [
    "transformed_x = [min(i[0], 1) for i in list(_unweighted_transform.predict(np.expand_dims(meta_df[it_layer], 1)))]\n",
    "tmpdf = pandas.DataFrame(\n",
    "    {'model': np.concatenate((transformed_x, meta_df[it_layer])), \n",
    "     'human': np.concatenate((meta_df['prc_lesion'], meta_df['prc_lesion'])),\n",
    "     'group': np.concatenate([np.repeat('lesion',n_), np.repeat('intact', n_)])})\n",
    "prcinteraction = smf.ols(\"human ~ model + group\", tmpdf).fit()\n",
    "show_model_parameters(prcinteraction)[1]"
   ]
  },
  {
   "cell_type": "code",
   "execution_count": 118,
   "metadata": {},
   "outputs": [
    {
     "data": {
      "text/plain": [
       "'$R^{2}_{model} = 0.78$, $\\\\beta = -0.20$, $F(2, 25)$ = $-4.29, p < 3 $ x $ 10 ^{-4} $'"
      ]
     },
     "execution_count": 118,
     "metadata": {},
     "output_type": "execute_result"
    }
   ],
   "source": [
    "tmpdf = pandas.DataFrame(\n",
    "    {'model': np.concatenate((transformed_x, meta_df[it_layer])), \n",
    "     'human': np.concatenate((meta_df['prc_lesion'], meta_df['prc_lesion'])),\n",
    "     'group': np.concatenate([np.repeat('transformed',n_), np.repeat('original', n_)])})\n",
    "prcinteraction = smf.ols(\"human ~ model + group\", tmpdf).fit()\n",
    "show_model_parameters(prcinteraction, -2)[1]"
   ]
  },
  {
   "cell_type": "code",
   "execution_count": 119,
   "metadata": {},
   "outputs": [],
   "source": [
    "uniform = np.array(_X)\n",
    "nonuniform = np.array(_Y)"
   ]
  },
  {
   "cell_type": "code",
   "execution_count": 120,
   "metadata": {},
   "outputs": [
    {
     "name": "stdout",
     "output_type": "stream",
     "text": [
      "0.001767337807606264 0.21 1.0\n"
     ]
    }
   ],
   "source": [
    "print( np.mean(np.diff(uniform[uniform.argsort()])), min(uniform), max(uniform) ) "
   ]
  },
  {
   "cell_type": "code",
   "execution_count": 121,
   "metadata": {},
   "outputs": [
    {
     "name": "stdout",
     "output_type": "stream",
     "text": [
      "0.0016554809843400448 0.26 1.0\n"
     ]
    }
   ],
   "source": [
    "print( np.mean(np.diff(nonuniform[nonuniform.argsort()])), min(nonuniform), max(nonuniform))"
   ]
  },
  {
   "cell_type": "code",
   "execution_count": 122,
   "metadata": {},
   "outputs": [],
   "source": [
    "selected_x = np.array([_X[i] for i in range(len(_X)) if _C[i] in selected_categories])\n",
    "selected_y = np.array([_Y[i] for i in range(len(_X)) if _C[i] in selected_categories])"
   ]
  },
  {
   "cell_type": "code",
   "execution_count": 127,
   "metadata": {},
   "outputs": [],
   "source": [
    "# print( np.mean(np.diff(selected_x[selected_x.argsort()])), min(selected_x), max(selected_x) ) \n",
    "# print( np.mean(np.diff(selected_y[selected_y.argsort()])), min(selected_y), max(selected_y) ) "
   ]
  },
  {
   "cell_type": "code",
   "execution_count": 129,
   "metadata": {},
   "outputs": [
    {
     "name": "stdout",
     "output_type": "stream",
     "text": [
      "human_performance.csv   \u001b[34monline_data_collection\u001b[m\u001b[m/\r\n"
     ]
    }
   ],
   "source": [
    "ls high-throughput/"
   ]
  },
  {
   "cell_type": "code",
   "execution_count": 130,
   "metadata": {},
   "outputs": [],
   "source": [
    "novel = pandas.read_csv('high-throughput/human_performance.csv')"
   ]
  },
  {
   "cell_type": "code",
   "execution_count": 131,
   "metadata": {},
   "outputs": [],
   "source": [
    "novel['delta_it_v4'] = novel['it']-novel['v4'] \n",
    "novel['delta_prc_it'] = novel['human']-novel['it'] \n",
    "novel['delta_fc6_v4'] = novel['fc6']-novel['v4'] \n",
    "novel['delta_prc_fc6'] = novel['human']-novel['fc6'] "
   ]
  },
  {
   "cell_type": "code",
   "execution_count": 132,
   "metadata": {},
   "outputs": [],
   "source": [
    "#novel_summary = novel.groupby(['typical_name']).mean()\n",
    "novel_summary = pandas.DataFrame({\n",
    "    'it': np.array([novel[novel.typical_name==o]['it'].mean()  for o in novel.typical_name.unique()]), \n",
    "    'v4': np.array([novel[novel.typical_name==o]['v4'].mean()  for o in novel.typical_name.unique()]),\n",
    "    'fc6': np.array([novel[novel.typical_name==o]['fc6'].mean()  for o in novel.typical_name.unique()]),\n",
    "    'prc': np.array([novel[novel.typical_name==o]['human'].mean()  for o in novel.typical_name.unique()]),\n",
    "    'rt': np.array([np.round(novel[novel.typical_name==o]['rt'].mean()) for o in novel.typical_name.unique()]), \n",
    "    'object': np.array([o for o in novel.typical_name.unique()]),\n",
    "    'category': [novel[novel.typical_name==o]['category'].iloc[0] for o in novel.typical_name.unique()]\n",
    "})\n",
    "\n",
    "novel_summary['delta_prc_it'] = novel_summary['prc']-novel_summary['it']\n",
    "novel_summary['delta_prc_fc6'] = novel_summary['prc']-novel_summary['fc6'] \n",
    "novel_summary['delta_it_v4'] = novel_summary['it']-novel_summary['v4'] \n",
    "novel_summary['delta_prc_v4'] = novel_summary['prc']-novel_summary['v4'] \n",
    "novel_summary['delta_fc6_v4'] = novel_summary['fc6']-novel_summary['v4'] \n",
    "\n",
    "nN = len(novel_summary)"
   ]
  },
  {
   "cell_type": "markdown",
   "metadata": {},
   "source": [
    "### IT outperforms V4"
   ]
  },
  {
   "cell_type": "code",
   "execution_count": 133,
   "metadata": {},
   "outputs": [
    {
     "data": {
      "text/markdown": [
       "$R^{2}_{model} = 0.00$, $\\beta = 0.18$, $F(0, 31)$ = $6.56, p < 3 $ x $ 10 ^{-7} $"
      ],
      "text/plain": [
       "<IPython.core.display.Markdown object>"
      ]
     },
     "execution_count": 133,
     "metadata": {},
     "output_type": "execute_result"
    }
   ],
   "source": [
    "# test for interaction by patient group \n",
    "novel_itv4_delata = smf.ols(\"delta_it_v4 ~ 1\", novel_summary).fit()\n",
    "show_model_parameters(novel_itv4_delata)[0]"
   ]
  },
  {
   "cell_type": "markdown",
   "metadata": {},
   "source": [
    "### PRC outperforms IT"
   ]
  },
  {
   "cell_type": "code",
   "execution_count": 134,
   "metadata": {},
   "outputs": [
    {
     "data": {
      "text/markdown": [
       "$R^{2}_{model} = 0.00$, $\\beta = 0.24$, $F(0, 31)$ = $9.50, p < 1 $ x $ 10 ^{-10} $"
      ],
      "text/plain": [
       "<IPython.core.display.Markdown object>"
      ]
     },
     "execution_count": 134,
     "metadata": {},
     "output_type": "execute_result"
    }
   ],
   "source": [
    "# test for interaction by patient group \n",
    "novel_itv4_delata = smf.ols(\"delta_prc_it ~ 1\", novel_summary).fit()\n",
    "show_model_parameters(novel_itv4_delata)[0]"
   ]
  },
  {
   "cell_type": "markdown",
   "metadata": {},
   "source": [
    "### model predicts IT"
   ]
  },
  {
   "cell_type": "code",
   "execution_count": 135,
   "metadata": {},
   "outputs": [
    {
     "data": {
      "text/markdown": [
       "$R^{2}_{model} = 0.86$, $\\beta = 0.81$, $F(1, 30)$ = $13.33, p < 4 $ x $ 10 ^{-14} $"
      ],
      "text/plain": [
       "<IPython.core.display.Markdown object>"
      ]
     },
     "execution_count": 135,
     "metadata": {},
     "output_type": "execute_result"
    }
   ],
   "source": [
    "# test for interaction by patient group \n",
    "novel_itv4_delata = smf.ols(\"it ~ fc6\", novel_summary).fit()\n",
    "show_model_parameters(novel_itv4_delata)[0]"
   ]
  },
  {
   "cell_type": "markdown",
   "metadata": {},
   "source": [
    "### model outperforms V4"
   ]
  },
  {
   "cell_type": "code",
   "execution_count": 136,
   "metadata": {},
   "outputs": [
    {
     "data": {
      "text/markdown": [
       "$R^{2}_{model} = 0.00$, $\\beta = 0.26$, $F(0, 31)$ = $8.02, p < 5 $ x $ 10 ^{-9} $"
      ],
      "text/plain": [
       "<IPython.core.display.Markdown object>"
      ]
     },
     "execution_count": 136,
     "metadata": {},
     "output_type": "execute_result"
    }
   ],
   "source": [
    "# test for interaction by patient group \n",
    "novel_itv4_delata = smf.ols(\"delta_fc6_v4 ~ 1\", novel_summary).fit()\n",
    "show_model_parameters(novel_itv4_delata)[0]"
   ]
  },
  {
   "cell_type": "markdown",
   "metadata": {},
   "source": [
    "### PRC outperforms model"
   ]
  },
  {
   "cell_type": "code",
   "execution_count": 137,
   "metadata": {},
   "outputs": [
    {
     "data": {
      "text/markdown": [
       "$R^{2}_{model} = 0.00$, $\\beta = 0.16$, $F(0, 31)$ = $5.38, p < 8 $ x $ 10 ^{-6} $"
      ],
      "text/plain": [
       "<IPython.core.display.Markdown object>"
      ]
     },
     "execution_count": 137,
     "metadata": {},
     "output_type": "execute_result"
    }
   ],
   "source": [
    "# test for interaction by patient group \n",
    "novel_itv4_delata = smf.ols(\"delta_prc_fc6~1\", novel_summary).fit()\n",
    "show_model_parameters(novel_itv4_delata)[0]"
   ]
  },
  {
   "cell_type": "code",
   "execution_count": 138,
   "metadata": {},
   "outputs": [],
   "source": [
    "novel_interaction_data = pandas.DataFrame({\n",
    "    'accuracy': np.concatenate([novel_summary['v4'],novel_summary['it'], novel_summary['prc']]), \n",
    "    'vvs_region': np.concatenate([np.repeat('v4', nN),np.repeat('it', nN), np.repeat('prc', nN)]), \n",
    "    'model': np.concatenate([novel_summary['fc6'],novel_summary['fc6'], novel_summary['fc6']]), \n",
    "})"
   ]
  },
  {
   "cell_type": "code",
   "execution_count": 139,
   "metadata": {},
   "outputs": [
    {
     "data": {
      "text/markdown": [
       "$R^{2}_{model} = 0.90$, $\\beta = -0.56$, $F(5, 90)$ = $-6.75, p < 2 $ x $ 10 ^{-9} $"
      ],
      "text/plain": [
       "<IPython.core.display.Markdown object>"
      ]
     },
     "execution_count": 139,
     "metadata": {},
     "output_type": "execute_result"
    }
   ],
   "source": [
    "# test for interaction by patient group \n",
    "novel_interaction_test = smf.ols(\"accuracy ~ vvs_region * model\", novel_interaction_data).fit()\n",
    "show_model_parameters(novel_interaction_test)[0]"
   ]
  },
  {
   "cell_type": "code",
   "execution_count": 140,
   "metadata": {},
   "outputs": [
    {
     "data": {
      "text/markdown": [
       "$R^{2}_{model} = 0.77$, $\\beta = -0.88$, $F(1, 31)$ = $-10.16, p < 3 $ x $ 10 ^{-11} $"
      ],
      "text/plain": [
       "<IPython.core.display.Markdown object>"
      ]
     },
     "execution_count": 140,
     "metadata": {},
     "output_type": "execute_result"
    }
   ],
   "source": [
    "rt_delta = smf.ols(\"zscore(it) ~ -1 + zscore(rt)\", novel_summary).fit()\n",
    "show_model_parameters(rt_delta)[0]"
   ]
  },
  {
   "cell_type": "code",
   "execution_count": 141,
   "metadata": {},
   "outputs": [
    {
     "data": {
      "text/markdown": [
       "$R^{2}_{model} = 0.17$, $\\beta = -0.42$, $F(1, 31)$ = $-2.55, p < .05 $"
      ],
      "text/plain": [
       "<IPython.core.display.Markdown object>"
      ]
     },
     "execution_count": 141,
     "metadata": {},
     "output_type": "execute_result"
    }
   ],
   "source": [
    "rt_delta = smf.ols(\"zscore(v4) ~ zscore(rt)-1\", novel_summary).fit()\n",
    "show_model_parameters(rt_delta)[0]"
   ]
  },
  {
   "cell_type": "code",
   "execution_count": 142,
   "metadata": {},
   "outputs": [
    {
     "data": {
      "text/markdown": [
       "$R^{2}_{model} = 0.65$, $\\beta = 0.81$, $F(1, 31)$ = $7.56, p < 2 $ x $ 10 ^{-8} $"
      ],
      "text/plain": [
       "<IPython.core.display.Markdown object>"
      ]
     },
     "execution_count": 142,
     "metadata": {},
     "output_type": "execute_result"
    }
   ],
   "source": [
    "rt_delta = smf.ols(\"zscore(delta_prc_it) ~ -1 + zscore(rt)\", novel_summary).fit()\n",
    "show_model_parameters(rt_delta)[0]"
   ]
  },
  {
   "cell_type": "code",
   "execution_count": 143,
   "metadata": {},
   "outputs": [
    {
     "data": {
      "text/markdown": [
       "$R^{2}_{model} = 0.01$, $\\beta = -0.08$, $F(1, 30)$ = $-0.41, p > .05$"
      ],
      "text/plain": [
       "<IPython.core.display.Markdown object>"
      ]
     },
     "execution_count": 143,
     "metadata": {},
     "output_type": "execute_result"
    }
   ],
   "source": [
    "rt_delta = smf.ols(\"zscore(delta_prc_v4) ~ zscore(rt)\", novel_summary).fit()\n",
    "show_model_parameters(rt_delta)[0]"
   ]
  },
  {
   "cell_type": "code",
   "execution_count": 144,
   "metadata": {},
   "outputs": [
    {
     "data": {
      "text/markdown": [
       "$R^{2}_{model} = 0.51$, $\\beta = 0.72$, $F(1, 31)$ = $5.72, p < 3 $ x $ 10 ^{-6} $"
      ],
      "text/plain": [
       "<IPython.core.display.Markdown object>"
      ]
     },
     "execution_count": 144,
     "metadata": {},
     "output_type": "execute_result"
    }
   ],
   "source": [
    "rt_delta = smf.ols(\"zscore(delta_prc_fc6) ~ -1 + zscore(rt)\", novel_summary).fit()\n",
    "show_model_parameters(rt_delta)[0]"
   ]
  },
  {
   "cell_type": "code",
   "execution_count": 145,
   "metadata": {},
   "outputs": [
    {
     "data": {
      "text/markdown": [
       "$R^{2}_{model} = 0.51$, $\\beta = 0.72$, $F(1, 31)$ = $5.72, p < 3 $ x $ 10 ^{-6} $"
      ],
      "text/plain": [
       "<IPython.core.display.Markdown object>"
      ]
     },
     "execution_count": 145,
     "metadata": {},
     "output_type": "execute_result"
    }
   ],
   "source": [
    "rt_delta = smf.ols(\"zscore(delta_prc_fc6) ~ zscore(rt)-1\", novel_summary).fit()\n",
    "show_model_parameters(rt_delta)[0]"
   ]
  },
  {
   "cell_type": "code",
   "execution_count": 146,
   "metadata": {},
   "outputs": [
    {
     "data": {
      "image/png": "[encoded data removed]",
      "text/plain": [
       "<Figure size 1224x288 with 5 Axes>"
      ]
     },
     "metadata": {
      "needs_background": "light"
     },
     "output_type": "display_data"
    }
   ],
   "source": [
    "def plot_nice_line(model_, params={}, title=''): \n",
    "    m, b = model_.coef_[0], model_.intercept_[0]\n",
    "    xs = np.array([.2, min(1 , ( ( 1 - b) / m ))])  \n",
    "    plt.plot(xs, xs * m + b, **params)\n",
    "    \n",
    "color = { 'v4':'#c9d1d3', 'fc6': '#8b2f97', 'prc': '#00909e'}\n",
    "\n",
    "plt.figure(figsize=[17, 4])\n",
    "for plot, region in enumerate(list(color), 1):\n",
    "    \n",
    "    ax = plt.subplot(1, 5, plot)\n",
    "    #ax = fig.add_subplot(2,2,i+1)\n",
    "    x_ = novel_summary['it'].values\n",
    "    y_ = novel_summary[region].values\n",
    "    plt.plot([.2, 1], [.2, 1], color='lightgrey', linestyle=':', zorder=-1)\n",
    "    _dotparams = {'edgecolor':'black', 'linewidth': .4, 's':35, 'color':color[region]}\n",
    "    plt.scatter(x=x_, y=y_, **_dotparams)\n",
    "    plt.xlabel('IT-Supported performance', fontsize=12)\n",
    "    if region == 'fc6': \n",
    "        plt.ylabel('Model Performance', fontsize=12)        \n",
    "    elif region == 'prc': \n",
    "        plt.ylabel('PRC-Intact Performance', fontsize=12)      \n",
    "    else: \n",
    "        plt.ylabel('%s-Supported Performance'%region.upper(), fontsize=12)\n",
    "    \n",
    "    ax.text(-0.11, 1.08, ['','a','b','c'][plot], transform=ax.transAxes,fontsize=16, va='top', ha='right')\n",
    "        \n",
    "    ax = plt.subplot(1, 5, 4)\n",
    "    _lineparams = {'linewidth':7, 'zorder':-1, 'color':color[region], 'label':region.upper(), \n",
    "                   'solid_capstyle': 'round'}\n",
    "    \n",
    "    x_ = novel_summary['fc6'].values\n",
    "    if region == 'fc6': \n",
    "        y_ = novel_summary['it'].values\n",
    "        _lineparams['label']='IT'\n",
    "    else: \n",
    "        y_ = novel_summary[region].values\n",
    "        \n",
    "    _model = LinearRegression().fit(np.reshape(x_, (-1,1)), np.reshape(y_, (-1, 1)))\n",
    "    plot_nice_line(_model, _lineparams)\n",
    "\n",
    "plt.ylabel('VVS-Supported Performance', fontsize=12)    \n",
    "plt.xlabel('Model Performance', fontsize=12)\n",
    "plt.plot([.2, 1], [.2, 1], color='lightgrey', linestyle=':', zorder=-3) \n",
    "plt.legend(loc=4, title='READOUT', framealpha=0, fontsize=9, title_fontsize=9) \n",
    "ax.text(-0.11, 1.08, 'd', transform=ax.transAxes,fontsize=16, va='top', ha='right')\n",
    "ax = plt.subplot(155)\n",
    "_dotparams = {'edgecolor':'black', 'linewidth': .4, 's':35}\n",
    "_x = novel_summary['delta_prc_it']\n",
    "_y = novel_summary['rt']\n",
    "plt.scatter(x=novel_summary['delta_prc_v4'], y=_y, facecolor=color['v4'], edgecolor='', label='V4', zorder=-2)\n",
    "plt.scatter(x=_x, y=_y, color=color['fc6'], **_dotparams, label='IT')\n",
    "plt.ylim(min(_y)-200,  max(_y)+200)\n",
    "plt.xlim(min(_x)-.08,  max(_x)+.08)\n",
    "plt.legend(framealpha=0, title='READOUT') \n",
    "#plt.xlabel('PRC-intact — VVS-supported Accuracy', fontsize=12)\n",
    "plt.xlabel('$\\Delta_{\\mathregular{PRC-VVS}}$'' Performance', fontsize=12)\n",
    "plt.ylabel('Reaction Time (ms)', fontsize=12,)\n",
    "plt.yticks(size=7)\n",
    "plt.subplots_adjust(right=1.2)\n",
    "ax.text(-0.11, 1.08, 'e', transform=ax.transAxes,fontsize=16, va='top', ha='right')\n",
    "\n",
    "save_location = os.path.join(_location, 'novel_diagnostic_experiment.pdf')\n",
    "plt.savefig(save_location, format='pdf', bbox_inches = \"tight\")"
   ]
  },
  {
   "cell_type": "code",
   "execution_count": 147,
   "metadata": {},
   "outputs": [
    {
     "data": {
      "text/markdown": [
       "$R^{2}_{model} = 0.90$, $\\beta = 0.81$, $F(5, 90)$ = $13.86, p < 5 $ x $ 10 ^{-24} $"
      ],
      "text/plain": [
       "<IPython.core.display.Markdown object>"
      ]
     },
     "execution_count": 147,
     "metadata": {},
     "output_type": "execute_result"
    }
   ],
   "source": [
    "show_model_parameters(novel_interaction_test, -3)[0]"
   ]
  },
  {
   "cell_type": "code",
   "execution_count": 148,
   "metadata": {},
   "outputs": [
    {
     "data": {
      "text/markdown": [
       "$R^{2}_{model} = 0.90$, $\\beta = -0.60$, $F(5, 90)$ = $-7.21, p < 2 $ x $ 10 ^{-10} $"
      ],
      "text/plain": [
       "<IPython.core.display.Markdown object>"
      ]
     },
     "execution_count": 148,
     "metadata": {},
     "output_type": "execute_result"
    }
   ],
   "source": [
    "show_model_parameters(novel_interaction_test, -2)[0]"
   ]
  },
  {
   "cell_type": "code",
   "execution_count": 151,
   "metadata": {},
   "outputs": [
    {
     "data": {
      "text/markdown": [
       "$R^{2}_{model} = 0.90$, $\\beta = -0.56$, $F(5, 90)$ = $-6.75, p < 2 $ x $ 10 ^{-9} $"
      ],
      "text/plain": [
       "<IPython.core.display.Markdown object>"
      ]
     },
     "execution_count": 151,
     "metadata": {},
     "output_type": "execute_result"
    }
   ],
   "source": [
    "show_model_parameters(novel_interaction_test)[0]"
   ]
  },
  {
   "cell_type": "code",
   "execution_count": 153,
   "metadata": {},
   "outputs": [
    {
     "name": "stdout",
     "output_type": "stream",
     "text": [
      "README.md             retrospective.pickle\r\n",
      "resnet_prep.ipynb     retrospective.py\r\n"
     ]
    }
   ],
   "source": [
    "ls in_silico/architecture/"
   ]
  },
  {
   "cell_type": "code",
   "execution_count": 154,
   "metadata": {},
   "outputs": [],
   "source": [
    "resnet_file = 'in_silico/architecture/retrospective.pickle'\n",
    "with open(resnet_file, 'rb') as handle: \n",
    "    resnets = pickle.load(handle)\n",
    "    for i_resnet in list(resnets): \n",
    "        meta_df['resnet_%s'%i_resnet] = [resnets[i_resnet][i] for i in meta_df.experiment.values]"
   ]
  },
  {
   "cell_type": "markdown",
   "metadata": {},
   "source": [
    "### Fit to PRC-lesioned or -intact subjects doesn't change by increasing model depth"
   ]
  },
  {
   "cell_type": "code",
   "execution_count": 231,
   "metadata": {},
   "outputs": [
    {
     "data": {
      "text/plain": [
       "'$R^{2}_{model} = 0.62$, $\\\\beta = 6.74$, $F(1, 4)$ = $2.56, p > .05$'"
      ]
     },
     "execution_count": 231,
     "metadata": {},
     "output_type": "execute_result"
    }
   ],
   "source": [
    "show_model_parameters( \n",
    "    smf.ols('y~-1 + x', data=pandas.DataFrame({'x':_singleMu,\n",
    "                                               'y': np.arange(0, len(_singleMu))})).fit() )[1]"
   ]
  },
  {
   "cell_type": "code",
   "execution_count": 232,
   "metadata": {},
   "outputs": [
    {
     "data": {
      "text/plain": [
       "'$R^{2}_{model} = 0.68$, $\\\\beta = 8.04$, $F(1, 4)$ = $2.91, p < .05 $'"
      ]
     },
     "execution_count": 232,
     "metadata": {},
     "output_type": "execute_result"
    }
   ],
   "source": [
    "show_model_parameters( \n",
    "    smf.ols('y~-1 + x', data=pandas.DataFrame({'x':_singleBeta, 'y': np.arange(0, len(_singleMu))})).fit())[1]"
   ]
  },
  {
   "cell_type": "code",
   "execution_count": 158,
   "metadata": {},
   "outputs": [
    {
     "data": {
      "text/markdown": [
       "$R^{2}_{model} = 0.31$, $\\beta = -0.00$, $F(2, 67)$ = $-0.24, p > .05$"
      ],
      "text/plain": [
       "<IPython.core.display.Markdown object>"
      ]
     },
     "execution_count": 158,
     "metadata": {},
     "output_type": "execute_result"
    }
   ],
   "source": [
    "resnet_ttest = smf.ols(formula = 'prc_intact ~ model_performance + linear', data=resnet_test).fit()\n",
    "show_model_parameters(resnet_ttest)[0]"
   ]
  },
  {
   "cell_type": "code",
   "execution_count": 159,
   "metadata": {},
   "outputs": [
    {
     "data": {
      "text/plain": [
       "Intercept            0.699159\n",
       "model_performance    0.252420\n",
       "linear              -0.002061\n",
       "dtype: float64"
      ]
     },
     "execution_count": 159,
     "metadata": {},
     "output_type": "execute_result"
    }
   ],
   "source": [
    "resnet_ttest.params"
   ]
  },
  {
   "cell_type": "markdown",
   "metadata": {},
   "source": [
    "### All model depths demonstrate a significant interaction between PRC-lesioned and -intact subjects"
   ]
  },
  {
   "cell_type": "code",
   "execution_count": 160,
   "metadata": {},
   "outputs": [],
   "source": [
    "resnet_test = pandas.DataFrame()\n",
    "counter = 0\n",
    "for i_resnet in list(resnets): \n",
    "    for i_group in ['prc_intact', 'prc_lesion']: \n",
    "        _df = pandas.DataFrame({'resnet':meta_df['resnet_%s'%i_resnet], \n",
    "                                'group':np.repeat([0,1][i_group=='prc_intact'], len(meta_df)),\n",
    "                                'human':meta_df[i_group],\n",
    "                                'architecture': np.repeat(i_resnet, len(meta_df))})\n",
    "        resnet_test = pandas.concat([resnet_test, _df], ignore_index=True)"
   ]
  },
  {
   "cell_type": "code",
   "execution_count": 161,
   "metadata": {},
   "outputs": [
    {
     "data": {
      "text/markdown": [
       "$R^{2}_{model} = 0.75$, $\\beta = -0.51$, $F(3, 24)$ = $-3.32, p < 3 $ x $ 10 ^{-3} $"
      ],
      "text/plain": [
       "<IPython.core.display.Markdown object>"
      ]
     },
     "execution_count": 161,
     "metadata": {},
     "output_type": "execute_result"
    }
   ],
   "source": [
    "_restest = smf.ols(formula = 'human ~ resnet * group', data=resnet_test[resnet_test.architecture=='18']).fit()\n",
    "show_model_parameters(_restest)[0]"
   ]
  },
  {
   "cell_type": "code",
   "execution_count": 162,
   "metadata": {},
   "outputs": [
    {
     "data": {
      "text/markdown": [
       "$R^{2}_{model} = 0.74$, $\\beta = -0.45$, $F(3, 24)$ = $-3.07, p < 6 $ x $ 10 ^{-3} $"
      ],
      "text/plain": [
       "<IPython.core.display.Markdown object>"
      ]
     },
     "execution_count": 162,
     "metadata": {},
     "output_type": "execute_result"
    }
   ],
   "source": [
    "_restest = smf.ols(formula = 'human ~ resnet * group', data=resnet_test[resnet_test.architecture=='34']).fit()\n",
    "show_model_parameters(_restest)[0]"
   ]
  },
  {
   "cell_type": "code",
   "execution_count": 163,
   "metadata": {},
   "outputs": [
    {
     "data": {
      "text/markdown": [
       "$R^{2}_{model} = 0.71$, $\\beta = -0.49$, $F(3, 24)$ = $-3.25, p < 4 $ x $ 10 ^{-3} $"
      ],
      "text/plain": [
       "<IPython.core.display.Markdown object>"
      ]
     },
     "execution_count": 163,
     "metadata": {},
     "output_type": "execute_result"
    }
   ],
   "source": [
    "_restest = smf.ols(formula = 'human ~ resnet * group', data=resnet_test[resnet_test.architecture=='50']).fit()\n",
    "show_model_parameters(_restest) [0]"
   ]
  },
  {
   "cell_type": "code",
   "execution_count": 164,
   "metadata": {},
   "outputs": [
    {
     "data": {
      "text/markdown": [
       "$R^{2}_{model} = 0.76$, $\\beta = -0.56$, $F(3, 24)$ = $-3.66, p < 2 $ x $ 10 ^{-3} $"
      ],
      "text/plain": [
       "<IPython.core.display.Markdown object>"
      ]
     },
     "execution_count": 164,
     "metadata": {},
     "output_type": "execute_result"
    }
   ],
   "source": [
    "_restest = smf.ols(formula = 'human ~ resnet * group', data=resnet_test[resnet_test.architecture=='101']).fit()\n",
    "show_model_parameters(_restest) [0]"
   ]
  },
  {
   "cell_type": "code",
   "execution_count": 165,
   "metadata": {},
   "outputs": [
    {
     "data": {
      "text/markdown": [
       "$R^{2}_{model} = 0.78$, $\\beta = -0.54$, $F(3, 24)$ = $-3.97, p < 6 $ x $ 10 ^{-4} $"
      ],
      "text/plain": [
       "<IPython.core.display.Markdown object>"
      ]
     },
     "execution_count": 165,
     "metadata": {},
     "output_type": "execute_result"
    }
   ],
   "source": [
    "_restest = smf.ols(formula = 'human ~ resnet * group', data=resnet_test[resnet_test.architecture=='152']).fit()\n",
    "show_model_parameters(_restest) [0]"
   ]
  },
  {
   "cell_type": "code",
   "execution_count": 171,
   "metadata": {},
   "outputs": [],
   "source": [
    "def show_resnets(df):\n",
    "    \n",
    "    def plot_nice_line(model_, params={}, title=''): \n",
    "        m, b = model_.coef_[0], model_.intercept_[0]\n",
    "        xs = np.array([0, min(1 , ( ( 1 - b) / m ))])  \n",
    "        plt.plot(xs, xs * m + b, **params)\n",
    "        \n",
    "    prc_color = ('#a6229a', '#72249a') \n",
    "    con_color = ('#d8d8d8', '#b2b2b2')   \n",
    "    hpc_color = ('#032997', '#037397') \n",
    "    \n",
    "    lw = 3\n",
    "    _a = 1 \n",
    "    _cap = ['butt', 'round', 'projecting'][0]\n",
    "    _jstyle = ['miter', 'round', 'bevel'][2]\n",
    "    resnets = [i for i in meta_df.columns if 'resnet' in i]\n",
    "    prc_c = [i.rgb for i in colour.Color(prc_color[0]).range_to(colour.Color(prc_color[1]), len(resnets))]\n",
    "    hpc_c = [i.rgb for i in colour.Color(hpc_color[0]).range_to(colour.Color(hpc_color[1]), len(resnets))]\n",
    "    con_c = [i.rgb for i in colour.Color(con_color[0]).range_to(colour.Color(con_color[1]), len(resnets))]\n",
    "\n",
    "    prc_ = df['prc_lesion'].values\n",
    "    hpc_ = df['hpc_lesion'].values\n",
    "    con_ = df['prc_intact'].values\n",
    "    \n",
    "    for i_resnet in range(len(resnets)): \n",
    "        \n",
    "        mod_ = df[resnets[i_resnet]].values\n",
    "\n",
    "        con_model_ = LinearRegression().fit(np.reshape(mod_, (-1,1)), np.reshape(con_, (-1, 1)))\n",
    "        params = {'color':con_c[i_resnet],'linewidth':lw,'zorder':-10, \n",
    "                 'solid_capstyle':_cap, 'alpha':_a, 'solid_joinstyle':_jstyle}\n",
    "        plot_nice_line(con_model_, params)\n",
    "\n",
    "        hpc_model_ = LinearRegression().fit(np.reshape(mod_, (-1,1)), np.reshape(hpc_, (-1, 1)))\n",
    "        params = {'color':hpc_c[i_resnet], 'linewidth':lw,'zorder':-3, \n",
    "                 'solid_capstyle':_cap, 'alpha':_a}\n",
    "        plot_nice_line(hpc_model_, params)\n",
    "\n",
    "        prc_model_ = LinearRegression().fit(np.reshape(mod_, (-1,1)), np.reshape(prc_, (-1, 1)))\n",
    "        params = {'color':prc_c[i_resnet], 'linewidth':lw, 'zorder':-5, 'label':'%3d'%int(resnets[i_resnet][7:]), \n",
    "                 'solid_capstyle':_cap, 'alpha':_a}\n",
    "        plot_nice_line(prc_model_, params)\n",
    "    \n",
    "    \n",
    "    y_i = .0085\n",
    "    y_x = .0595\n",
    "    ly = .29\n",
    "    _params = {'solid_capstyle':_cap,'linewidth':lw}\n",
    "    # PRC ANNOTATION\n",
    "    plt.annotate('$PRC$', xy=(.825, ly), fontsize=9)\n",
    "    # HPC ANNOTATION\n",
    "    [plt.plot([.71, .79],[y_i + y_x*i, y_i+y_x*i], color=hpc_c[i], **_params) for i in range(len(resnets))]\n",
    "    plt.annotate('$HPC$', xy=(.715, ly), fontsize=9)\n",
    "    # PRC INTACT\n",
    "    [plt.plot([.60, .68],[y_i + y_x*i, y_i+y_x*i], color=con_c[i], **_params) for i in range(len(resnets))]\n",
    "    plt.annotate('$NON$', xy=(.59, ly), fontsize=9)\n",
    "    plt.annotate('$n$', xy=(.96, ly), fontsize=9)\n",
    "    plt.annotate('Lesion Group', xy=(.62, .37), fontsize=10)\n",
    "    plt.plot([0, 1], [0, 1], color='grey', linestyle=':', zorder=-15)\n",
    "    plt.legend(title='', framealpha=0, fontsize=8, loc=4)\n",
    "    plt.xlabel('Model$_{layers=n} $'' ''Performance', fontsize=12, labelpad=10)\n",
    "    plt.ylabel('Human Performance', fontsize=12)\n",
    "    plt.xticks(size=8)\n",
    "    plt.yticks(size=8)"
   ]
  },
  {
   "cell_type": "code",
   "execution_count": 173,
   "metadata": {},
   "outputs": [
    {
     "data": {
      "image/png": "[encoded data removed]",
      "text/plain": [
       "<Figure size 288x288 with 1 Axes>"
      ]
     },
     "metadata": {
      "needs_background": "light"
     },
     "output_type": "display_data"
    }
   ],
   "source": [
    "fig = plt.figure(figsize=[4, 4])\n",
    "ax = fig.add_subplot(111)\n",
    "show_resnets(meta_df)\n",
    "plt.savefig(os.path.join(_location, 'multiple_resnets.pdf'), \n",
    "            format='pdf', bbox_inches = \"tight\")"
   ]
  },
  {
   "cell_type": "code",
   "execution_count": 212,
   "metadata": {},
   "outputs": [
    {
     "data": {
      "text/markdown": [
       "$\\mu_{prc.improved}=nan, \\mu_{prc.unimproved}=nan$"
      ],
      "text/plain": [
       "<IPython.core.display.Markdown object>"
      ]
     },
     "execution_count": 212,
     "metadata": {},
     "output_type": "execute_result"
    }
   ],
   "source": [
    "md(r'$\\mu_{prc.improved}=%.02f, \\mu_{prc.unimproved}=%.02f$'%(np.mean( _improved ), np.mean(_static)))"
   ]
  },
  {
   "cell_type": "code",
   "execution_count": 213,
   "metadata": {},
   "outputs": [
    {
     "data": {
      "text/plain": [
       "Ttest_indResult(statistic=nan, pvalue=nan)"
      ]
     },
     "execution_count": 213,
     "metadata": {},
     "output_type": "execute_result"
    }
   ],
   "source": [
    "stats.ttest_ind(_improved, _static, equal_var=False,)"
   ]
  },
  {
   "cell_type": "code",
   "execution_count": 214,
   "metadata": {},
   "outputs": [
    {
     "data": {
      "text/markdown": [
       "$R^{2}_{model} = 0.79$, $\\beta = -0.75$, $F(3, 24)$ = $-2.91, p < 8 $ x $ 10 ^{-3} $"
      ],
      "text/plain": [
       "<IPython.core.display.Markdown object>"
      ]
     },
     "execution_count": 214,
     "metadata": {},
     "output_type": "execute_result"
    }
   ],
   "source": [
    "_df = pandas.DataFrame({'model': np.array([meta_df['conv2_1'].values, meta_df['fc6'].values]).flatten(), \n",
    "                        'human': np.array([meta_df['prc_lesion'].values, meta_df['prc_lesion'].values]).flatten(), \n",
    "                        'tag': np.array([np.repeat(0, len(meta_df)), np.repeat(1, len(meta_df))]).flatten()})\n",
    "show_model_parameters(smf.ols(formula = 'human ~ model * tag', data=_df).fit())[0]"
   ]
  },
  {
   "cell_type": "code",
   "execution_count": 215,
   "metadata": {},
   "outputs": [
    {
     "data": {
      "text/markdown": [
       "$R^{2}_{model} = 0.17$, $\\beta = -0.11$, $F(1, 26)$ = $-2.33, p < .05 $"
      ],
      "text/plain": [
       "<IPython.core.display.Markdown object>"
      ]
     },
     "execution_count": 215,
     "metadata": {},
     "output_type": "execute_result"
    }
   ],
   "source": [
    "_df = pandas.DataFrame({'delta': np.array([meta_df['prc_lesion'].values-meta_df['conv2_1'].values,\n",
    "                                           meta_df['prc_lesion'].values-meta_df['fc7'].values]).flatten(), \n",
    "                        'layer': np.array([np.repeat(0, len(meta_df)), np.repeat(1, len(meta_df))]).flatten()})\n",
    "show_model_parameters(smf.ols(formula = 'delta ~ layer', data=_df).fit())[0]"
   ]
  },
  {
   "cell_type": "code",
   "execution_count": null,
   "metadata": {},
   "outputs": [],
   "source": []
  },
  {
   "cell_type": "markdown",
   "metadata": {},
   "source": [
    "### FACE ANALYSES"
   ]
  },
  {
   "cell_type": "code",
   "execution_count": 217,
   "metadata": {},
   "outputs": [],
   "source": [
    "vggface_retrospective = 'in_silico/training/retrospective/facetrained_retrospective.pickle'\n",
    "with open(vggface_retrospective, 'rb') as handle: \n",
    "    vgg_face = pickle.load(handle)\n",
    "    meta_df['vggface'] = [vgg_face[i] for i in meta_df.experiment.values]\n",
    "    meta_df['isface'] = ['face' in i for i in meta_df.experiment.values]\n",
    "meta_face = meta_df[meta_df['isface']]\n",
    "meta_objects = meta_df[meta_df['isface']==False]"
   ]
  },
  {
   "cell_type": "code",
   "execution_count": null,
   "metadata": {},
   "outputs": [],
   "source": []
  },
  {
   "cell_type": "code",
   "execution_count": 218,
   "metadata": {},
   "outputs": [],
   "source": [
    "_facenovel = 'in_silico/training/novel/multiple_models_novel_stimuli.csv'\n",
    "df_select = pandas.read_csv(_facenovel)\n",
    "_f = df_select\n",
    "\n",
    "foveated_items = pandas.DataFrame({ \n",
    "    #'human': _f[_f.model=='human'].accuracy.values, \n",
    "    #'time': _f[_f.model=='human'].reaction_time.values,\n",
    "    'imagenet':_f[(_f.model=='vgg16')*(_f.image_type=='foveated')*(_f.training_data=='imagenet')].accuracy.values,\n",
    "    'vggface': _f[(_f.model=='vgg16')*(_f.image_type=='foveated')*(_f.training_data=='vggface')].accuracy.values,\n",
    "    'it': _f[(_f.model=='it')].accuracy.values, \n",
    "    'category': _f[(_f.model=='vgg16')*(_f.image_type=='foveated')*(_f.training_data=='vggface')].category.values, \n",
    "    'typical_name': _f[(_f.model=='vgg16')*(_f.image_type=='foveated')*(_f.training_data=='vggface')].typical_name.values\n",
    "})\n",
    "\n",
    "novel_objects = foveated_items[foveated_items.category!='faces']\n",
    "novel_faces = foveated_items[foveated_items.category=='faces']"
   ]
  },
  {
   "cell_type": "markdown",
   "metadata": {},
   "source": [
    "### Faces are \"complex\": PRC-intact subjects outperform -lesioned subjects, models, and IT"
   ]
  },
  {
   "cell_type": "markdown",
   "metadata": {},
   "source": [
    "###  meta-analysis"
   ]
  },
  {
   "cell_type": "code",
   "execution_count": 219,
   "metadata": {},
   "outputs": [
    {
     "data": {
      "text/markdown": [
       "$R^{2}_{model} = 0.00$, $\\beta = 0.20$, $F(0, 3)$ = $4.25, p < .05 $"
      ],
      "text/plain": [
       "<IPython.core.display.Markdown object>"
      ]
     },
     "execution_count": 219,
     "metadata": {},
     "output_type": "execute_result"
    }
   ],
   "source": [
    "_facetest = pandas.DataFrame({'delta':meta_face['prc_intact']-meta_face['prc_lesion']})\n",
    "show_model_parameters(smf.ols(formula = 'delta ~ 1', data=_facetest).fit())[0]"
   ]
  },
  {
   "cell_type": "code",
   "execution_count": 220,
   "metadata": {},
   "outputs": [
    {
     "data": {
      "text/markdown": [
       "$R^{2}_{model} = 0.00$, $\\beta = 0.47$, $F(0, 3)$ = $9.42, p < 3 $ x $ 10 ^{-3} $"
      ],
      "text/plain": [
       "<IPython.core.display.Markdown object>"
      ]
     },
     "execution_count": 220,
     "metadata": {},
     "output_type": "execute_result"
    }
   ],
   "source": [
    "_facetest = pandas.DataFrame({'delta':meta_face['prc_intact']-meta_face['fc6']})\n",
    "show_model_parameters(smf.ols(formula = 'delta ~ 1', data=_facetest).fit())[0]"
   ]
  },
  {
   "cell_type": "markdown",
   "metadata": {},
   "source": [
    "### novel-analysis"
   ]
  },
  {
   "cell_type": "code",
   "execution_count": 221,
   "metadata": {},
   "outputs": [],
   "source": [
    "# _ttestface = pandas.DataFrame({'delta':novel_faces['human']-novel_faces['imagenet']})\n",
    "# show_model_parameters(smf.ols(formula = 'delta ~ 1', data=_ttestface).fit())[0]"
   ]
  },
  {
   "cell_type": "code",
   "execution_count": 223,
   "metadata": {},
   "outputs": [],
   "source": [
    "# _ttestface = pandas.DataFrame({'delta':novel_faces['human']-novel_faces['it']})\n",
    "# show_model_parameters(smf.ols(formula = 'delta ~ 1', data=_ttestface).fit())[0]"
   ]
  },
  {
   "cell_type": "markdown",
   "metadata": {},
   "source": [
    "### face training increases performance on faces"
   ]
  },
  {
   "cell_type": "code",
   "execution_count": 224,
   "metadata": {},
   "outputs": [
    {
     "data": {
      "text/markdown": [
       "$R^{2}_{model} = 0.00$, $\\beta = 0.31$, $F(0, 3)$ = $4.88, p < .05 $"
      ],
      "text/plain": [
       "<IPython.core.display.Markdown object>"
      ]
     },
     "execution_count": 224,
     "metadata": {},
     "output_type": "execute_result"
    }
   ],
   "source": [
    "_ttestface = pandas.DataFrame({'delta':meta_face['vggface']-meta_face['fc6']})\n",
    "show_model_parameters(smf.ols(formula = 'delta ~ 1', data=_ttestface).fit())[0]"
   ]
  },
  {
   "cell_type": "code",
   "execution_count": 225,
   "metadata": {},
   "outputs": [
    {
     "data": {
      "text/plain": [
       "'$R^{2}_{model} = 0.00$, $\\\\beta = 0.31$, $F(0, 279)$ = $26.22, p < 3 $ x $ 10 ^{-77} $'"
      ]
     },
     "execution_count": 225,
     "metadata": {},
     "output_type": "execute_result"
    }
   ],
   "source": [
    "_ttestface = pandas.DataFrame({'delta':novel_faces['vggface']-novel_faces['imagenet']})\n",
    "show_model_parameters(smf.ols(formula = 'delta ~ 1', data=_ttestface).fit())[1]"
   ]
  },
  {
   "cell_type": "markdown",
   "metadata": {},
   "source": [
    "### Model Performance is statistically indistinguishable for PRC-intact behavior"
   ]
  },
  {
   "cell_type": "code",
   "execution_count": 226,
   "metadata": {},
   "outputs": [
    {
     "data": {
      "text/markdown": [
       "$R^{2}_{model} = 0.00$, $\\beta = 0.16$, $F(0, 3)$ = $1.91, p > .05$"
      ],
      "text/plain": [
       "<IPython.core.display.Markdown object>"
      ]
     },
     "execution_count": 226,
     "metadata": {},
     "output_type": "execute_result"
    }
   ],
   "source": [
    "_ttestface = pandas.DataFrame({'delta':meta_face['prc_intact']-meta_face['vggface']})\n",
    "show_model_parameters(smf.ols(formula = 'delta ~ 1', data=_ttestface).fit())[0]"
   ]
  },
  {
   "cell_type": "code",
   "execution_count": 227,
   "metadata": {},
   "outputs": [],
   "source": [
    "# _ttestface = pandas.DataFrame({'delta':novel_faces['human']-novel_faces['vggface']})\n",
    "# show_model_parameters(smf.ols(formula = 'delta ~ 1', data=_ttestface).fit())[0]"
   ]
  },
  {
   "cell_type": "markdown",
   "metadata": {},
   "source": [
    "### face-trained models perform worse on non-faces"
   ]
  },
  {
   "cell_type": "code",
   "execution_count": 228,
   "metadata": {},
   "outputs": [
    {
     "data": {
      "text/markdown": [
       "$R^{2}_{model} = -0.00$, $\\beta = -0.14$, $F(0, 9)$ = $-2.79, p < .05 $"
      ],
      "text/plain": [
       "<IPython.core.display.Markdown object>"
      ]
     },
     "execution_count": 228,
     "metadata": {},
     "output_type": "execute_result"
    }
   ],
   "source": [
    "_facetest = pandas.DataFrame({'delta':meta_objects['vggface']-meta_objects['fc6']})\n",
    "show_model_parameters(smf.ols(formula = 'delta ~ 1', data=_facetest).fit())[0]"
   ]
  },
  {
   "cell_type": "code",
   "execution_count": 229,
   "metadata": {},
   "outputs": [
    {
     "data": {
      "text/plain": [
       "'$R^{2}_{model} = 0.00$, $\\\\beta = 0.16$, $F(0, 839)$ = $20.30, p < 8 $ x $ 10 ^{-75} $'"
      ]
     },
     "execution_count": 229,
     "metadata": {},
     "output_type": "execute_result"
    }
   ],
   "source": [
    "_ttestface = pandas.DataFrame({'delta':novel_objects['imagenet']-novel_objects['vggface']})\n",
    "show_model_parameters(smf.ols(formula = 'delta ~ 1', data=_ttestface).fit())[1]"
   ]
  },
  {
   "cell_type": "markdown",
   "metadata": {},
   "source": [
    "### significant interaction between training and testing performance, as a function of stimulus type"
   ]
  },
  {
   "cell_type": "code",
   "execution_count": 230,
   "metadata": {},
   "outputs": [
    {
     "ename": "KeyError",
     "evalue": "'human'",
     "output_type": "error",
     "traceback": [
      "\u001b[0;31m---------------------------------------------------------------------------\u001b[0m",
      "\u001b[0;31mKeyError\u001b[0m                                  Traceback (most recent call last)",
      "\u001b[0;32m~/opt/anaconda3/envs/tf/lib/python3.7/site-packages/pandas/core/indexes/base.py\u001b[0m in \u001b[0;36mget_loc\u001b[0;34m(self, key, method, tolerance)\u001b[0m\n\u001b[1;32m   2896\u001b[0m             \u001b[0;32mtry\u001b[0m\u001b[0;34m:\u001b[0m\u001b[0;34m\u001b[0m\u001b[0;34m\u001b[0m\u001b[0m\n\u001b[0;32m-> 2897\u001b[0;31m                 \u001b[0;32mreturn\u001b[0m \u001b[0mself\u001b[0m\u001b[0;34m.\u001b[0m\u001b[0m_engine\u001b[0m\u001b[0;34m.\u001b[0m\u001b[0mget_loc\u001b[0m\u001b[0;34m(\u001b[0m\u001b[0mkey\u001b[0m\u001b[0;34m)\u001b[0m\u001b[0;34m\u001b[0m\u001b[0;34m\u001b[0m\u001b[0m\n\u001b[0m\u001b[1;32m   2898\u001b[0m             \u001b[0;32mexcept\u001b[0m \u001b[0mKeyError\u001b[0m\u001b[0;34m:\u001b[0m\u001b[0;34m\u001b[0m\u001b[0;34m\u001b[0m\u001b[0m\n",
      "\u001b[0;32mpandas/_libs/index.pyx\u001b[0m in \u001b[0;36mpandas._libs.index.IndexEngine.get_loc\u001b[0;34m()\u001b[0m\n",
      "\u001b[0;32mpandas/_libs/index.pyx\u001b[0m in \u001b[0;36mpandas._libs.index.IndexEngine.get_loc\u001b[0;34m()\u001b[0m\n",
      "\u001b[0;32mpandas/_libs/hashtable_class_helper.pxi\u001b[0m in \u001b[0;36mpandas._libs.hashtable.PyObjectHashTable.get_item\u001b[0;34m()\u001b[0m\n",
      "\u001b[0;32mpandas/_libs/hashtable_class_helper.pxi\u001b[0m in \u001b[0;36mpandas._libs.hashtable.PyObjectHashTable.get_item\u001b[0;34m()\u001b[0m\n",
      "\u001b[0;31mKeyError\u001b[0m: 'human'",
      "\nDuring handling of the above exception, another exception occurred:\n",
      "\u001b[0;31mKeyError\u001b[0m                                  Traceback (most recent call last)",
      "\u001b[0;32m<ipython-input-230-8b6c208b8faa>\u001b[0m in \u001b[0;36m<module>\u001b[0;34m\u001b[0m\n\u001b[1;32m      5\u001b[0m \u001b[0;34m\u001b[0m\u001b[0m\n\u001b[1;32m      6\u001b[0m novel_test = pandas.DataFrame({\n\u001b[0;32m----> 7\u001b[0;31m     \u001b[0;34m'human'\u001b[0m\u001b[0;34m:\u001b[0m \u001b[0mnp\u001b[0m\u001b[0;34m.\u001b[0m\u001b[0marray\u001b[0m\u001b[0;34m(\u001b[0m\u001b[0;34m[\u001b[0m\u001b[0mfoveated_items\u001b[0m\u001b[0;34m[\u001b[0m\u001b[0;34m'human'\u001b[0m\u001b[0;34m]\u001b[0m\u001b[0;34m,\u001b[0m \u001b[0mfoveated_items\u001b[0m\u001b[0;34m[\u001b[0m\u001b[0;34m'human'\u001b[0m\u001b[0;34m]\u001b[0m\u001b[0;34m]\u001b[0m\u001b[0;34m)\u001b[0m\u001b[0;34m.\u001b[0m\u001b[0mflatten\u001b[0m\u001b[0;34m(\u001b[0m\u001b[0;34m)\u001b[0m\u001b[0;34m,\u001b[0m\u001b[0;34m\u001b[0m\u001b[0;34m\u001b[0m\u001b[0m\n\u001b[0m\u001b[1;32m      8\u001b[0m     \u001b[0;34m'model'\u001b[0m\u001b[0;34m:\u001b[0m \u001b[0mnp\u001b[0m\u001b[0;34m.\u001b[0m\u001b[0marray\u001b[0m\u001b[0;34m(\u001b[0m\u001b[0;34m[\u001b[0m\u001b[0mfoveated_items\u001b[0m\u001b[0;34m[\u001b[0m\u001b[0;34m'vggface'\u001b[0m\u001b[0;34m]\u001b[0m\u001b[0;34m,\u001b[0m \u001b[0mfoveated_items\u001b[0m\u001b[0;34m[\u001b[0m\u001b[0;34m'imagenet'\u001b[0m\u001b[0;34m]\u001b[0m\u001b[0;34m]\u001b[0m\u001b[0;34m)\u001b[0m\u001b[0;34m.\u001b[0m\u001b[0mflatten\u001b[0m\u001b[0;34m(\u001b[0m\u001b[0;34m)\u001b[0m\u001b[0;34m,\u001b[0m\u001b[0;34m\u001b[0m\u001b[0;34m\u001b[0m\u001b[0m\n\u001b[1;32m      9\u001b[0m     \u001b[0;34m'face'\u001b[0m\u001b[0;34m:\u001b[0m \u001b[0mnp\u001b[0m\u001b[0;34m.\u001b[0m\u001b[0marray\u001b[0m\u001b[0;34m(\u001b[0m\u001b[0;34m[\u001b[0m\u001b[0mfoveated_items\u001b[0m\u001b[0;34m.\u001b[0m\u001b[0mcategory\u001b[0m\u001b[0;34m==\u001b[0m\u001b[0;34m'faces'\u001b[0m\u001b[0;34m,\u001b[0m \u001b[0mfoveated_items\u001b[0m\u001b[0;34m.\u001b[0m\u001b[0mcategory\u001b[0m\u001b[0;34m==\u001b[0m\u001b[0;34m'faces'\u001b[0m\u001b[0;34m]\u001b[0m\u001b[0;34m)\u001b[0m\u001b[0;34m.\u001b[0m\u001b[0mflatten\u001b[0m\u001b[0;34m(\u001b[0m\u001b[0;34m)\u001b[0m\u001b[0;34m,\u001b[0m\u001b[0;34m\u001b[0m\u001b[0;34m\u001b[0m\u001b[0m\n",
      "\u001b[0;32m~/opt/anaconda3/envs/tf/lib/python3.7/site-packages/pandas/core/frame.py\u001b[0m in \u001b[0;36m__getitem__\u001b[0;34m(self, key)\u001b[0m\n\u001b[1;32m   2993\u001b[0m             \u001b[0;32mif\u001b[0m \u001b[0mself\u001b[0m\u001b[0;34m.\u001b[0m\u001b[0mcolumns\u001b[0m\u001b[0;34m.\u001b[0m\u001b[0mnlevels\u001b[0m \u001b[0;34m>\u001b[0m \u001b[0;36m1\u001b[0m\u001b[0;34m:\u001b[0m\u001b[0;34m\u001b[0m\u001b[0;34m\u001b[0m\u001b[0m\n\u001b[1;32m   2994\u001b[0m                 \u001b[0;32mreturn\u001b[0m \u001b[0mself\u001b[0m\u001b[0;34m.\u001b[0m\u001b[0m_getitem_multilevel\u001b[0m\u001b[0;34m(\u001b[0m\u001b[0mkey\u001b[0m\u001b[0;34m)\u001b[0m\u001b[0;34m\u001b[0m\u001b[0;34m\u001b[0m\u001b[0m\n\u001b[0;32m-> 2995\u001b[0;31m             \u001b[0mindexer\u001b[0m \u001b[0;34m=\u001b[0m \u001b[0mself\u001b[0m\u001b[0;34m.\u001b[0m\u001b[0mcolumns\u001b[0m\u001b[0;34m.\u001b[0m\u001b[0mget_loc\u001b[0m\u001b[0;34m(\u001b[0m\u001b[0mkey\u001b[0m\u001b[0;34m)\u001b[0m\u001b[0;34m\u001b[0m\u001b[0;34m\u001b[0m\u001b[0m\n\u001b[0m\u001b[1;32m   2996\u001b[0m             \u001b[0;32mif\u001b[0m \u001b[0mis_integer\u001b[0m\u001b[0;34m(\u001b[0m\u001b[0mindexer\u001b[0m\u001b[0;34m)\u001b[0m\u001b[0;34m:\u001b[0m\u001b[0;34m\u001b[0m\u001b[0;34m\u001b[0m\u001b[0m\n\u001b[1;32m   2997\u001b[0m                 \u001b[0mindexer\u001b[0m \u001b[0;34m=\u001b[0m \u001b[0;34m[\u001b[0m\u001b[0mindexer\u001b[0m\u001b[0;34m]\u001b[0m\u001b[0;34m\u001b[0m\u001b[0;34m\u001b[0m\u001b[0m\n",
      "\u001b[0;32m~/opt/anaconda3/envs/tf/lib/python3.7/site-packages/pandas/core/indexes/base.py\u001b[0m in \u001b[0;36mget_loc\u001b[0;34m(self, key, method, tolerance)\u001b[0m\n\u001b[1;32m   2897\u001b[0m                 \u001b[0;32mreturn\u001b[0m \u001b[0mself\u001b[0m\u001b[0;34m.\u001b[0m\u001b[0m_engine\u001b[0m\u001b[0;34m.\u001b[0m\u001b[0mget_loc\u001b[0m\u001b[0;34m(\u001b[0m\u001b[0mkey\u001b[0m\u001b[0;34m)\u001b[0m\u001b[0;34m\u001b[0m\u001b[0;34m\u001b[0m\u001b[0m\n\u001b[1;32m   2898\u001b[0m             \u001b[0;32mexcept\u001b[0m \u001b[0mKeyError\u001b[0m\u001b[0;34m:\u001b[0m\u001b[0;34m\u001b[0m\u001b[0;34m\u001b[0m\u001b[0m\n\u001b[0;32m-> 2899\u001b[0;31m                 \u001b[0;32mreturn\u001b[0m \u001b[0mself\u001b[0m\u001b[0;34m.\u001b[0m\u001b[0m_engine\u001b[0m\u001b[0;34m.\u001b[0m\u001b[0mget_loc\u001b[0m\u001b[0;34m(\u001b[0m\u001b[0mself\u001b[0m\u001b[0;34m.\u001b[0m\u001b[0m_maybe_cast_indexer\u001b[0m\u001b[0;34m(\u001b[0m\u001b[0mkey\u001b[0m\u001b[0;34m)\u001b[0m\u001b[0;34m)\u001b[0m\u001b[0;34m\u001b[0m\u001b[0;34m\u001b[0m\u001b[0m\n\u001b[0m\u001b[1;32m   2900\u001b[0m         \u001b[0mindexer\u001b[0m \u001b[0;34m=\u001b[0m \u001b[0mself\u001b[0m\u001b[0;34m.\u001b[0m\u001b[0mget_indexer\u001b[0m\u001b[0;34m(\u001b[0m\u001b[0;34m[\u001b[0m\u001b[0mkey\u001b[0m\u001b[0;34m]\u001b[0m\u001b[0;34m,\u001b[0m \u001b[0mmethod\u001b[0m\u001b[0;34m=\u001b[0m\u001b[0mmethod\u001b[0m\u001b[0;34m,\u001b[0m \u001b[0mtolerance\u001b[0m\u001b[0;34m=\u001b[0m\u001b[0mtolerance\u001b[0m\u001b[0;34m)\u001b[0m\u001b[0;34m\u001b[0m\u001b[0;34m\u001b[0m\u001b[0m\n\u001b[1;32m   2901\u001b[0m         \u001b[0;32mif\u001b[0m \u001b[0mindexer\u001b[0m\u001b[0;34m.\u001b[0m\u001b[0mndim\u001b[0m \u001b[0;34m>\u001b[0m \u001b[0;36m1\u001b[0m \u001b[0;32mor\u001b[0m \u001b[0mindexer\u001b[0m\u001b[0;34m.\u001b[0m\u001b[0msize\u001b[0m \u001b[0;34m>\u001b[0m \u001b[0;36m1\u001b[0m\u001b[0;34m:\u001b[0m\u001b[0;34m\u001b[0m\u001b[0;34m\u001b[0m\u001b[0m\n",
      "\u001b[0;32mpandas/_libs/index.pyx\u001b[0m in \u001b[0;36mpandas._libs.index.IndexEngine.get_loc\u001b[0;34m()\u001b[0m\n",
      "\u001b[0;32mpandas/_libs/index.pyx\u001b[0m in \u001b[0;36mpandas._libs.index.IndexEngine.get_loc\u001b[0;34m()\u001b[0m\n",
      "\u001b[0;32mpandas/_libs/hashtable_class_helper.pxi\u001b[0m in \u001b[0;36mpandas._libs.hashtable.PyObjectHashTable.get_item\u001b[0;34m()\u001b[0m\n",
      "\u001b[0;32mpandas/_libs/hashtable_class_helper.pxi\u001b[0m in \u001b[0;36mpandas._libs.hashtable.PyObjectHashTable.get_item\u001b[0;34m()\u001b[0m\n",
      "\u001b[0;31mKeyError\u001b[0m: 'human'"
     ]
    }
   ],
   "source": [
    "retro_test = pandas.DataFrame({'human': np.array([meta_df['prc_lesion'], meta_df['prc_lesion']]).flatten(), \n",
    "                               'model': np.array([meta_df['vggface'], meta_df['fc6']]).flatten(), \n",
    "                               'face': np.array([meta_df.isface==False, meta_df.isface==False]).flatten(), \n",
    "                               'type': np.array([np.repeat(0, len(meta_df)), np.repeat(1, len(meta_df))]).flatten()})\n",
    "\n",
    "novel_test = pandas.DataFrame({\n",
    "    'human': np.array([foveated_items['human'], foveated_items['human']]).flatten(), \n",
    "    'model': np.array([foveated_items['vggface'], foveated_items['imagenet']]).flatten(), \n",
    "    'face': np.array([foveated_items.category=='faces', foveated_items.category=='faces']).flatten(), \n",
    "    'type': np.array([np.repeat(0, len(foveated_items)), np.repeat(1, len(foveated_items))]).flatten()})"
   ]
  },
  {
   "cell_type": "code",
   "execution_count": 525,
   "metadata": {},
   "outputs": [
    {
     "data": {
      "text/plain": [
       "Ttest_relResult(statistic=7.91715350205103, pvalue=0.004201133532817599)"
      ]
     },
     "execution_count": 525,
     "metadata": {},
     "output_type": "execute_result"
    }
   ],
   "source": [
    "stats.ttest_rel(meta_df[meta_df.isface == True]['vggface'].values, \n",
    "                meta_df[meta_df.isface == True][it_layer].values) "
   ]
  },
  {
   "cell_type": "code",
   "execution_count": 526,
   "metadata": {},
   "outputs": [
    {
     "name": "stdout",
     "output_type": "stream",
     "text": [
      "0.01052553437667199\n"
     ]
    },
    {
     "data": {
      "text/markdown": [
       "$R^{2}_{model} = 0.27$, $\\beta = 0.47$, $F(3, 24)$ = $2.77, p < .05 $"
      ],
      "text/plain": [
       "<IPython.core.display.Markdown object>"
      ]
     },
     "execution_count": 526,
     "metadata": {},
     "output_type": "execute_result"
    }
   ],
   "source": [
    "_ttestface = smf.ols(formula = 'model ~ face *  type', data=retro_test).fit()\n",
    "show_model_parameters(_ttestface)[0]"
   ]
  },
  {
   "cell_type": "code",
   "execution_count": 527,
   "metadata": {},
   "outputs": [
    {
     "name": "stdout",
     "output_type": "stream",
     "text": [
      "5.795337189424493e-20\n"
     ]
    },
    {
     "data": {
      "text/markdown": [
       "$R^{2}_{model} = 0.20$, $\\beta = -0.48$, $F(3, 426)$ = $-9.62, p < 6 $ x $ 10 ^{-20} $"
      ],
      "text/plain": [
       "<IPython.core.display.Markdown object>"
      ]
     },
     "execution_count": 527,
     "metadata": {},
     "output_type": "execute_result"
    }
   ],
   "source": [
    "_ttestface = smf.ols(formula = 'model ~ face *  type', data=novel_test).fit()\n",
    "show_model_parameters(_ttestface)[0]"
   ]
  },
  {
   "cell_type": "code",
   "execution_count": 505,
   "metadata": {},
   "outputs": [
    {
     "name": "stdout",
     "output_type": "stream",
     "text": [
      "0.004693417617607256\n"
     ]
    },
    {
     "data": {
      "text/markdown": [
       "$R^{2}_{model} = 0.71$, $\\beta = 0.32$, $F(4, 23)$ = $3.13, p < 5 $ x $ 10 ^{-3} $"
      ],
      "text/plain": [
       "<IPython.core.display.Markdown object>"
      ]
     },
     "execution_count": 505,
     "metadata": {},
     "output_type": "execute_result"
    }
   ],
   "source": [
    "show_model_parameters(smf.ols(formula = 'human ~ model + face *  type', data=retro_test).fit(), -2) [0]"
   ]
  },
  {
   "cell_type": "code",
   "execution_count": 317,
   "metadata": {},
   "outputs": [
    {
     "name": "stdout",
     "output_type": "stream",
     "text": [
      "0.020642020550835267\n"
     ]
    },
    {
     "data": {
      "text/markdown": [
       "$R^{2}_{model} = 0.26$, $\\beta = 0.05$, $F(4, 425)$ = $2.32, p < .05 $"
      ],
      "text/plain": [
       "<IPython.core.display.Markdown object>"
      ]
     },
     "execution_count": 317,
     "metadata": {},
     "output_type": "execute_result"
    }
   ],
   "source": [
    "_ttestface = smf.ols(formula = 'human ~ model + face *  type', data=novel_test).fit()\n",
    "show_model_parameters(_ttestface)[0]"
   ]
  },
  {
   "cell_type": "code",
   "execution_count": null,
   "metadata": {},
   "outputs": [],
   "source": []
  },
  {
   "cell_type": "code",
   "execution_count": 318,
   "metadata": {},
   "outputs": [
    {
     "name": "stdout",
     "output_type": "stream",
     "text": [
      "5.795337189424493e-20\n"
     ]
    },
    {
     "data": {
      "text/markdown": [
       "$R^{2}_{model} = 0.20$, $\\beta = -0.48$, $F(3, 426)$ = $-9.62, p < 6 $ x $ 10 ^{-20} $"
      ],
      "text/plain": [
       "<IPython.core.display.Markdown object>"
      ]
     },
     "execution_count": 318,
     "metadata": {},
     "output_type": "execute_result"
    }
   ],
   "source": [
    "_ttestface = smf.ols(formula = 'model ~ face *  type', data=novel_test).fit()\n",
    "show_model_parameters(_ttestface)[0]"
   ]
  },
  {
   "cell_type": "code",
   "execution_count": 319,
   "metadata": {},
   "outputs": [],
   "source": [
    "novel_item_summary = foveated_items.groupby('typical_name').mean()"
   ]
  },
  {
   "cell_type": "code",
   "execution_count": 320,
   "metadata": {},
   "outputs": [],
   "source": [
    "novel_item_summary['delta_humanimagenet'] = novel_item_summary['human'] -  novel_item_summary['imagenet']  \n",
    "novel_item_summary['delta_humanit'] = novel_item_summary['human'] -  novel_item_summary['it']  \n",
    "novel_item_summary['delta_humanvggface'] = novel_item_summary['human'] -  novel_item_summary['vggface']  "
   ]
  },
  {
   "cell_type": "code",
   "execution_count": 321,
   "metadata": {},
   "outputs": [
    {
     "name": "stdout",
     "output_type": "stream",
     "text": [
      "0.8477408735442021\n"
     ]
    },
    {
     "data": {
      "text/markdown": [
       "$R^{2}_{model} = 0.00$, $\\beta = -0.05$, $F(1, 30)$ = $-0.19, p > .05$"
      ],
      "text/plain": [
       "<IPython.core.display.Markdown object>"
      ]
     },
     "execution_count": 321,
     "metadata": {},
     "output_type": "execute_result"
    }
   ],
   "source": [
    "_ttestface = smf.ols(formula = 'it ~ vggface', data=novel_item_summary ).fit()\n",
    "show_model_parameters(_ttestface)[0]"
   ]
  },
  {
   "cell_type": "code",
   "execution_count": 322,
   "metadata": {},
   "outputs": [
    {
     "name": "stdout",
     "output_type": "stream",
     "text": [
      "4.070382240310681e-10\n"
     ]
    },
    {
     "data": {
      "text/markdown": [
       "$R^{2}_{model} = 0.73$, $\\beta = 0.84$, $F(1, 30)$ = $9.09, p < 4 $ x $ 10 ^{-10} $"
      ],
      "text/plain": [
       "<IPython.core.display.Markdown object>"
      ]
     },
     "execution_count": 322,
     "metadata": {},
     "output_type": "execute_result"
    }
   ],
   "source": [
    "_ttestface = smf.ols(formula = 'it ~ imagenet', data=novel_item_summary ).fit()\n",
    "show_model_parameters(_ttestface)[0]"
   ]
  },
  {
   "cell_type": "code",
   "execution_count": 528,
   "metadata": {},
   "outputs": [
    {
     "name": "stdout",
     "output_type": "stream",
     "text": [
      "0.21076906665361342\n"
     ]
    },
    {
     "data": {
      "text/markdown": [
       "$R^{2}_{model} = 0.05$, $\\beta = -0.23$, $F(1, 30)$ = $-1.28, p > .05$"
      ],
      "text/plain": [
       "<IPython.core.display.Markdown object>"
      ]
     },
     "execution_count": 528,
     "metadata": {},
     "output_type": "execute_result"
    }
   ],
   "source": [
    "_ttestface = smf.ols(formula = 'zscore(time) ~ zscore(vggface)', data=novel_item_summary ).fit()\n",
    "show_model_parameters(_ttestface)[0]"
   ]
  },
  {
   "cell_type": "code",
   "execution_count": 529,
   "metadata": {},
   "outputs": [
    {
     "name": "stdout",
     "output_type": "stream",
     "text": [
      "1.1348570629549994e-07\n"
     ]
    },
    {
     "data": {
      "text/markdown": [
       "$R^{2}_{model} = 0.61$, $\\beta = -0.78$, $F(1, 30)$ = $-6.91, p < 2 $ x $ 10 ^{-7} $"
      ],
      "text/plain": [
       "<IPython.core.display.Markdown object>"
      ]
     },
     "execution_count": 529,
     "metadata": {},
     "output_type": "execute_result"
    }
   ],
   "source": [
    "_ttestface = smf.ols(formula = 'zscore(time) ~ zscore(imagenet)', data=novel_item_summary ).fit()\n",
    "show_model_parameters(_ttestface)[0]"
   ]
  },
  {
   "cell_type": "code",
   "execution_count": 325,
   "metadata": {},
   "outputs": [
    {
     "name": "stdout",
     "output_type": "stream",
     "text": [
      "1.1864012291756243e-06\n"
     ]
    },
    {
     "data": {
      "text/markdown": [
       "$R^{2}_{model} = 0.55$, $\\beta = 2482.33$, $F(1, 30)$ = $6.06, p < 1 $ x $ 10 ^{-6} $"
      ],
      "text/plain": [
       "<IPython.core.display.Markdown object>"
      ]
     },
     "execution_count": 325,
     "metadata": {},
     "output_type": "execute_result"
    }
   ],
   "source": [
    "_ttestface = smf.ols(formula = 'time ~ delta_humanit', data=novel_item_summary ).fit()\n",
    "show_model_parameters(_ttestface)[0]"
   ]
  },
  {
   "cell_type": "code",
   "execution_count": 326,
   "metadata": {},
   "outputs": [
    {
     "name": "stdout",
     "output_type": "stream",
     "text": [
      "5.033796458698187e-05\n"
     ]
    },
    {
     "data": {
      "text/markdown": [
       "$R^{2}_{model} = 0.43$, $\\beta = 2072.57$, $F(1, 30)$ = $4.73, p < 5 $ x $ 10 ^{-5} $"
      ],
      "text/plain": [
       "<IPython.core.display.Markdown object>"
      ]
     },
     "execution_count": 326,
     "metadata": {},
     "output_type": "execute_result"
    }
   ],
   "source": [
    "_ttestface = smf.ols(formula = 'time ~ delta_humanimagenet', data=novel_item_summary ).fit()\n",
    "show_model_parameters(_ttestface)[0]"
   ]
  },
  {
   "cell_type": "code",
   "execution_count": 327,
   "metadata": {},
   "outputs": [
    {
     "name": "stdout",
     "output_type": "stream",
     "text": [
      "0.4243315219205336\n"
     ]
    },
    {
     "data": {
      "text/markdown": [
       "$R^{2}_{model} = 0.02$, $\\beta = -442.14$, $F(1, 30)$ = $-0.81, p > .05$"
      ],
      "text/plain": [
       "<IPython.core.display.Markdown object>"
      ]
     },
     "execution_count": 327,
     "metadata": {},
     "output_type": "execute_result"
    }
   ],
   "source": [
    "_ttestface = smf.ols(formula = 'time ~ delta_humanvggface', data=novel_item_summary ).fit()\n",
    "show_model_parameters(_ttestface)[0]"
   ]
  },
  {
   "cell_type": "code",
   "execution_count": null,
   "metadata": {},
   "outputs": [],
   "source": [
    "\n",
    "\n",
    "\n",
    "\n",
    "\n",
    "\n",
    "\n",
    "\n",
    "\n",
    "\n",
    "\n",
    "\n"
   ]
  },
  {
   "cell_type": "code",
   "execution_count": null,
   "metadata": {},
   "outputs": [],
   "source": []
  },
  {
   "cell_type": "code",
   "execution_count": 332,
   "metadata": {},
   "outputs": [],
   "source": [
    "def face_retrospective_models(PARAMS): \n",
    "    np.random.seed(1234)\n",
    "    con_color =  ('#2a2a2a', '#cccccc')\n",
    "    n_objects = sum(['face' not in i for i in meta_df.experiment])\n",
    "    c_objects = [i.rgb for i in colour.Color(con_color[1]).range_to(colour.Color(con_color[0]), n_objects)]\n",
    "    c_faces = PARAMS['FACECOLOR']\n",
    "    s_ = PARAMS['s'] + 5\n",
    "    x0 = .1\n",
    "    x1 = .9\n",
    "    #lw = PARAMS['pointlinewidth']+.25\n",
    "    _params = {'edgecolor':PARAMS['edgecolor'], 's':PARAMS['s'], 'linewidth':PARAMS['pointlinewidth']}\n",
    "    \n",
    "    i_df = meta_df[ ['face' in i for i in meta_df.experiment] ] \n",
    "    plt.scatter(x=[x1+np.random.randn()/100 for i in range(len(i_df))],y=i_df['vggface'],\n",
    "                facecolor=c_faces, **_params)\n",
    "    plt.scatter(x=[x0+np.random.randn()/100 for i in range(len(i_df))],y=i_df['fc6'],\n",
    "                facecolor=c_faces, **_params)\n",
    "    faces_ = [i_df['vggface'].mean(), i_df['fc6'].mean()]\n",
    "\n",
    "    _params = {'edgecolor':'white', 's':s_, 'linewidth':PARAMS['pointlinewidth'], 'zorder':-2}\n",
    "    i_df = meta_df[ ['face' not in i for i in meta_df.experiment] ] \n",
    "    plt.scatter(x=[x1+np.random.randn()/100 for i in range(len(i_df))],y=i_df['vggface'],\n",
    "                facecolor=c_objects, **_params)\n",
    "    plt.scatter(x=[x0+np.random.randn()/100 for i in range(len(i_df))],y=i_df['fc6'],\n",
    "                facecolor=c_objects, **_params)\n",
    "    objects_ = [i_df['vggface'].mean(), i_df['fc6'].mean()]\n",
    "\n",
    "    _params = {'linewidth':2, 'zorder':-5, 'linestyle':'-', 'alpha':1, 'solid_capstyle':'round'}\n",
    "    plt.plot([x0, x1], [faces_[0], objects_[0]], color='grey', **_params, label='object') \n",
    "    plt.plot([x0, x1], [faces_[1], objects_[1]], color=c_faces, **_params, label='faces')\n",
    "    plt.xlim(-.2, 1.2)\n",
    "    #plt.ylim(.01, 1.15)\n",
    "    plt.ylim([.05, 1.05])\n",
    "    plt.xticks([x0, x1], ['Objects', 'Faces'], fontsize=PARAMS['xtick_size']+2, y=0,)\n",
    "    plt.ylabel('Model Performance on Retrospective Experiments', labelpad=5, \n",
    "               fontsize=PARAMS['ylabel_fontsize']+2); \n",
    "    plt.yticks(fontsize=PARAMS['xtick_size'])\n",
    "    plt.xlabel('Training Data', labelpad=5, fontsize=PARAMS['xlabel_fontsize']+2)\n",
    "    plt.legend(title='category mean', framealpha=0, fontsize=PARAMS['legend_fontsize'], \n",
    "               labelspacing=.2, bbox_to_anchor=[.25, .2], title_fontsize=PARAMS['legend_title_fontsize'])"
   ]
  },
  {
   "cell_type": "code",
   "execution_count": 333,
   "metadata": {},
   "outputs": [],
   "source": [
    "def face_retrospective_human(ax, PARAMS, group, model, show_legend=1): \n",
    "    #prc_color = ('#72249a', '#9a2487') \n",
    "    con_color =  ('#2a2a2a', '#cccccc')\n",
    "    #hpc_color = ('#032997', '#037397') \n",
    "\n",
    "    n_objects = sum(['face' not in i for i in meta_df.experiment])\n",
    "    c_objects = [i.rgb for i in colour.Color(con_color[1]).range_to(colour.Color(con_color[0]), n_objects)]\n",
    "    #c_objects = c_objects[-1::-1]\n",
    "    x0 = .1\n",
    "    x1 = .9\n",
    "    l_fsize= PARAMS['legend_fontsize']\n",
    "    i_alpha= .3\n",
    "    tsize = PARAMS['xtick_size']\n",
    "    lw = .3\n",
    "    label_adjustsize=0\n",
    "    _params = {'edgecolor':PARAMS['edgecolor'], 's':PARAMS['s'], 'linewidth':PARAMS['pointlinewidth'], \n",
    "               'facecolor':PARAMS['FACECOLOR']}\n",
    "    \n",
    "    face_df = meta_df[ ['face' in i for i in meta_df.experiment] ] \n",
    "    ax.scatter(x=face_df[model]    , y=face_df[group], **_params, zorder=-2, label='faces')\n",
    "    #ax.plot([0, 1], [0, 1], color='grey', linestyle=':', zorder=-15)\n",
    "    ax.plot([0, 1], [0, 1], color='grey', linestyle='--', linewidth=.5, alpha=.5, zorder=-2)\n",
    "            \n",
    "    _params = {'facecolor':c_objects, 'edgecolor':PARAMS['edgecolor'],\n",
    "               's':PARAMS['s'], 'linewidth':PARAMS['pointlinewidth']}\n",
    "    obj_df = meta_df[ ['face' not in i for i in meta_df.experiment] ] \n",
    "    close_black = ax.scatter(x=obj_df[model]    , y=obj_df[group], **_params, zorder=-2,label='objects')    \n",
    "    if show_legend:\n",
    "        ax.legend(loc=4, title='Stimulus Type', framealpha=0,fontsize=l_fsize, title_fontsize=l_fsize) \n",
    "        \n",
    "    else: \n",
    "        a, = plt.plot([], [], linestyle='--', color='grey',  linewidth=.8, alpha=1)\n",
    "        plt.legend([a], ['Model Prediction'], loc=4,  fontsize=PARAMS['legend_fontsize'],\n",
    "                   labelspacing=.2, framealpha=0) \n",
    "\n",
    "    plt.yticks([0.0, .25, .5, .75, 1], ['0.00', .25, '0.50', .75, '1.00'], fontsize=tsize)\n",
    "    plt.xticks([0.0, .25, .5, .75, 1], ['0.00', .25, '0.50', .75, '1.00'], fontsize=tsize)\n",
    "    plt.ylabel('Human Performance\\nPRC-Intact ', labelpad=4, fontsize=PARAMS['ylabel_fontsize']+label_adjustsize); \n",
    "    plt.xlabel('Model Performance\\n%s-Trained '%['Face', 'Object'][model=='fc6'], \n",
    "               labelpad=4, fontsize=PARAMS['xlabel_fontsize']+label_adjustsize)"
   ]
  },
  {
   "cell_type": "code",
   "execution_count": 334,
   "metadata": {},
   "outputs": [],
   "source": [
    "def face_novel_model(PARAMS, view_type='foveated'): \n",
    "    \n",
    "    category_sets = {c: df_select[df_select.category==c].oddity_name.unique() for c in df_select.category.unique()}\n",
    "    np.random.seed(765)\n",
    "\n",
    "    x_face, x_object = [.25, 0]\n",
    "    C = {'animals':'#000000','chairs':'#696969', 'planes':'#a8a8a8',  'faces':PARAMS['FACECOLOR']}\n",
    "\n",
    "    object_color = 'white'\n",
    "    _params = {'edgecolor':PARAMS['edgecolor'], 'linewidth':PARAMS['pointlinewidth'], 's':PARAMS['s']-5}\n",
    "    _lparams = {'linestyle':'-', 'linewidth':2, 'zorder':-1}\n",
    "\n",
    "    resolution = 'trial_id' # 'typical_name'\n",
    "    object_alpha = 1 \n",
    "    \n",
    "    for i_category in ['animals', 'chairs', 'planes', 'faces']: \n",
    "\n",
    "        category_set = category_sets[i_category]\n",
    "\n",
    "        i_df = df_select[(df_select.category==i_category) * (df_select.image_type==view_type)]\n",
    "        face_values = i_df[i_df.training_data=='vggface'].groupby([resolution]).mean().accuracy.values\n",
    "        object_values = i_df[i_df.training_data=='imagenet'].groupby([resolution]).mean().accuracy.values\n",
    "\n",
    "        face_jitter = x_face + np.random.randn(len(face_values))/100\n",
    "        object_jitter = x_object + np.random.randn(len(object_values))/100\n",
    "        i_alpha=[object_alpha, 1][i_category=='faces']\n",
    "        plt.scatter(y = face_values, x = face_jitter, facecolor=C[i_category], **_params, alpha=i_alpha) \n",
    "        plt.scatter(y = object_values,x = object_jitter, facecolor=C[i_category], **_params, alpha=i_alpha) \n",
    "\n",
    "        plt.plot([x_face, x_object], [np.mean(face_values), np.mean(object_values)], \n",
    "                 color=C[i_category], **_lparams, label='%s'%i_category, solid_capstyle='round')\n",
    "\n",
    "    plt.legend(framealpha=1, fontsize=PARAMS['legend_fontsize'], labelspacing=.5,\n",
    "               title_fontsize=PARAMS['legend_title_fontsize'], bbox_to_anchor=[.51, .25], \n",
    "               edgecolor='white', title='category mean', frameon=0)    \n",
    "    plt.xlim(x_object-.1, x_face+.1); \n",
    "    #plt.xticks([x_object, x_face, x_object], [True, False], size=PARAMS['xtick_size']); \n",
    "    plt.yticks(fontsize=PARAMS['xtick_size'])\n",
    "    plt.xlabel('Training Data', labelpad=5, fontsize=PARAMS['xlabel_fontsize']+2)\n",
    "    plt.ylim([.05, 1.05])\n",
    "    plt.ylabel('Model Performance on Novel Experiment',  labelpad=5, \n",
    "               fontsize=PARAMS['ylabel_fontsize']+2)\n",
    "    plt.xticks([x_face, x_object], ['Faces', 'Objects'], fontsize=7); \n",
    "    plt.yticks(size=PARAMS['xtick_size'])"
   ]
  },
  {
   "cell_type": "code",
   "execution_count": 335,
   "metadata": {},
   "outputs": [],
   "source": [
    "def face_novel_human(i_data, y_data, PARAMS, view_type='foveated', legend=0): \n",
    "    \n",
    "    C = {'animals': '#000000','chairs': '#696969','planes': '#a8a8a8','faces': PARAMS['FACECOLOR']}\n",
    "    resolution = 'typical_name'\n",
    "\n",
    "\n",
    "    for i_category in df_select.category.unique(): \n",
    "\n",
    "        i_df = df_select[df_select.category==i_category]\n",
    "        it_values = i_df[i_df.model=='it'].groupby([resolution]).mean().accuracy.values\n",
    "        v4_values = i_df[i_df.model=='v4'].groupby([resolution]).mean().accuracy.values\n",
    "\n",
    "        life_values = i_df[i_df.training_data=='life'].groupby([resolution]).mean().accuracy.values\n",
    "        time_values = i_df[i_df.reaction_time==i_df.reaction_time].groupby([resolution]).mean().reaction_time.values\n",
    "\n",
    "        i_df = i_df[i_df.image_type==view_type]\n",
    "        face_values = i_df[i_df.training_data=='vggface'].groupby([resolution]).mean().accuracy.values\n",
    "        object_values = i_df[i_df.training_data=='imagenet'].groupby([resolution]).mean().accuracy.values\n",
    "\n",
    "        #l_fs = PARAMS['xlabel_fontsize']-2\n",
    "        ts = PARAMS['xtick_size']\n",
    "        s_ = PARAMS['s']\n",
    "        \n",
    "        #####\n",
    "        i_set = {'it':it_values, 'imagenet':object_values, 'vggface':face_values}\n",
    "        dot_params = {'label':'%s'%i_category, 'facecolor':C[i_category], \n",
    "                      's':s_, 'edgecolor':'white', 'linewidth':.25}\n",
    "\n",
    "        def x_label(i_data): \n",
    "            plt.xlabel('Model Performance\\n%s-Trained'%['Object', 'Face'][i_data=='vggface'],\n",
    "                       fontsize=PARAMS['xlabel_fontsize'])\n",
    "        \n",
    "        plt.xlim(0.15, 1.03)\n",
    "        plt.xticks([.25, .5, .75, 1], [.25, .50, .75, 1.0])\n",
    "        \n",
    "        # IT\n",
    "        if y_data == 'it': \n",
    "\n",
    "            plt.scatter(x=i_set[i_data], y=it_values, **dot_params)\n",
    "            plt.plot([.18, 1], [.18, 1], color='grey', linestyle='--', linewidth=.5, alpha=.5, zorder=-2)\n",
    "            x_label(i_data) \n",
    "            plt.ylabel('IT-Supported Performance', fontsize=PARAMS['ylabel_fontsize'])\n",
    "            plt.xticks(fontsize=ts) \n",
    "            plt.yticks(fontsize=ts)\n",
    "\n",
    "        # model x human accuracy\n",
    "        elif y_data == 'human': \n",
    "            plt.scatter(x=i_set[i_data], y=life_values, **dot_params)\n",
    "            x_label(i_data) \n",
    "            plt.plot([.18, 1], [.18, 1], color='grey', linestyle='--', linewidth=.5, alpha=.5, zorder=-2)\n",
    "            plt.ylabel('Human Performance\\nPRC-Intact', fontsize=PARAMS['ylabel_fontsize'], labelpad=4)\n",
    "            plt.xticks(fontsize=ts) ; plt.yticks(fontsize=ts)\n",
    "\n",
    "        elif y_data =='rt': \n",
    "\n",
    "            x_ = i_set[i_data]\n",
    "            plt.scatter(x=x_, y=time_values, **dot_params)\n",
    "            plt.yticks(size=8)\n",
    "            plt.xticks(fontsize=ts) ; plt.yticks(fontsize=ts)\n",
    "            x_label(i_data) \n",
    "            plt.ylabel('Reaction Time (ms)', fontsize=PARAMS['ylabel_fontsize']+1, labelpad=4)\n",
    "            plt.xticks(fontsize=ts) ; \n",
    "            plt.yticks([2000, 2500, 3000, 3500], [2000, 2500, 3000, 3500], fontsize=ts)\n",
    "            plt.ylim(1600, 3800)\n",
    "            plt.xlim(0.19, 1.03)\n",
    "    \n",
    "    if view_type == 'original': \n",
    "        plt.xlim(0.1, 1.03)\n",
    "    if legend: \n",
    "        plt.legend(framealpha=0, title='category', loc=4, \n",
    "                   fontsize=PARAMS['legend_fontsize'], title_fontsize=PARAMS['legend_title_fontsize'], \n",
    "                   labelspacing=.2,) \n",
    "    if (not legend) * (y_data == 'human') : \n",
    "        a, = plt.plot([], [], linestyle='--', color='grey',  linewidth=.8, alpha=1)\n",
    "        plt.legend([a], ['Model Prediction'], loc=4,  fontsize=PARAMS['legend_fontsize'], \n",
    "                   title_fontsize=PARAMS['legend_title_fontsize']+1, labelspacing=.2, framealpha=0) "
   ]
  },
  {
   "cell_type": "code",
   "execution_count": 336,
   "metadata": {},
   "outputs": [
    {
     "data": {
      "image/png": "[encoded data removed]",
      "text/plain": [
       "<Figure size 576x576 with 12 Axes>"
      ]
     },
     "metadata": {
      "needs_background": "light"
     },
     "output_type": "display_data"
    }
   ],
   "source": [
    "face_color = '#c53a73'\n",
    "PARAMS = {'FACECOLOR':face_color, 'edgecolor':'white', 'pointlinewidth':.25, 'legend_title_fontsize':6, \n",
    "          'legend_fontsize':6, 's':15, 'xtick_size':6, 'ylabel_fontsize':7, 'xlabel_fontsize':7, 'labelpad':2}\n",
    "\n",
    "label_size = 13\n",
    "label_height = 1.05\n",
    "label_dist = -.30\n",
    "\n",
    "fig = plt.figure(constrained_layout=True, figsize=[8, 8])\n",
    "gs = fig.add_gridspec(4, 4, wspace=0, hspace=1) \n",
    "\n",
    "###\n",
    "ax = fig.add_subplot(gs[0:2, 0:1]); \n",
    "face_retrospective_models(PARAMS)\n",
    "plt.text(label_dist, label_height-.02, 'a', fontsize=label_size, transform=ax.transAxes,)\n",
    "###\n",
    "ax = fig.add_subplot(gs[0:1, 1:2]); \n",
    "face_retrospective_human(ax, PARAMS, 'prc_intact', 'fc6')\n",
    "#plt.text(label_dist, label_height, 'b', fontsize=label_size, transform=ax.transAxes,)\n",
    "ax = fig.add_subplot(gs[1:2, 1:2]); \n",
    "face_retrospective_human(ax, PARAMS, 'prc_intact', 'vggface', show_legend=0)\n",
    "#plt.text(label_dist, label_height, 'c', fontsize=label_size, transform=ax.transAxes,)\n",
    "\n",
    "###\n",
    "ax = fig.add_subplot(gs[2:4, 0:1]);\n",
    "face_novel_model(PARAMS)\n",
    "plt.text(label_dist, label_height, 'b', fontsize=label_size, transform=ax.transAxes,)\n",
    "###\n",
    "ax = fig.add_subplot(gs[2:3, 1:2]); \n",
    "face_novel_human('imagenet', 'human', PARAMS, legend=1)\n",
    "#plt.text(label_dist, label_height, 'e', fontsize=label_size, transform=ax.transAxes,)\n",
    "ax = fig.add_subplot(gs[3:4, 1:2]); \n",
    "face_novel_human('vggface', 'human', PARAMS, legend=0)\n",
    "#plt.text(label_dist, label_height, 'f', fontsize=label_size, transform=ax.transAxes,)\n",
    "\n",
    "# ###\n",
    "ax = fig.add_subplot(gs[2:3, 2:3]); \n",
    "face_novel_human('imagenet', 'it', PARAMS)\n",
    "plt.text(label_dist, label_height+.05, 'c', fontsize=label_size, transform=ax.transAxes,)\n",
    "ax = fig.add_subplot(gs[3:4, 2:3]); \n",
    "face_novel_human('vggface', 'it', PARAMS)\n",
    "#plt.text(label_dist, label_height, 'h', fontsize=label_size, transform=ax.transAxes,)\n",
    "\n",
    "ax = fig.add_subplot(gs[2:3, 3:4]); \n",
    "face_novel_human('imagenet', 'rt', PARAMS)\n",
    "#plt.text(label_dist, label_height, 'i', fontsize=label_size, transform=ax.transAxes,)\n",
    "ax = fig.add_subplot(gs[3:4, 3:4]); \n",
    "face_novel_human('vggface', 'rt', PARAMS)\n",
    "#plt.text(label_dist, label_height, 'j', fontsize=label_size, transform=ax.transAxes,)\n",
    "\n",
    "plt.savefig(os.path.join(_location, 'training_effects_square.pdf'), format='pdf', bbox_inches = \"tight\")"
   ]
  },
  {
   "cell_type": "code",
   "execution_count": 337,
   "metadata": {},
   "outputs": [
    {
     "data": {
      "image/png": "[encoded data removed]",
      "text/plain": [
       "<Figure size 576x288 with 7 Axes>"
      ]
     },
     "metadata": {
      "needs_background": "light"
     },
     "output_type": "display_data"
    }
   ],
   "source": [
    "\n",
    "#face_novel_human('imagenet', 'human', PARAMS, view_type='original', legend=1)\n",
    "face_color = '#c53a73'\n",
    "PARAMS = {'FACECOLOR':face_color, 'edgecolor':'white', 'pointlinewidth':.25, 'legend_title_fontsize':6, \n",
    "          'legend_fontsize':6, 's':15, 'xtick_size':6, 'ylabel_fontsize':7, 'xlabel_fontsize':7, 'labelpad':2}\n",
    "\n",
    "label_size = 13\n",
    "label_height = 1.05\n",
    "label_dist = -.30\n",
    "\n",
    "fig = plt.figure(constrained_layout=True, figsize=[8, 4])\n",
    "gs = fig.add_gridspec(2, 4, wspace=0, hspace=1) \n",
    "\n",
    "ax = fig.add_subplot(gs[0:2, 0:1]);\n",
    "face_novel_model(PARAMS, view_type='original')\n",
    "plt.text(label_dist, label_height, 'a', fontsize=label_size, transform=ax.transAxes,)\n",
    "###\n",
    "ax = fig.add_subplot(gs[0:1, 1:2]); \n",
    "face_novel_human('imagenet', 'human', PARAMS, legend=1, view_type='original')\n",
    "plt.text(label_dist, label_height+.05, 'b', fontsize=label_size, transform=ax.transAxes,)\n",
    "ax = fig.add_subplot(gs[1:2, 1:2]); \n",
    "face_novel_human('vggface', 'human', PARAMS, legend=0, view_type='original')\n",
    "\n",
    "# ###\n",
    "ax = fig.add_subplot(gs[0:1, 2:3]); \n",
    "face_novel_human('imagenet', 'it', PARAMS, view_type='original')\n",
    "ax = fig.add_subplot(gs[1:2, 2:3]); \n",
    "face_novel_human('vggface', 'it', PARAMS, view_type='original')\n",
    "\n",
    "ax = fig.add_subplot(gs[0:1, 3:4]); \n",
    "face_novel_human('imagenet', 'rt', PARAMS, view_type='original')\n",
    "ax = fig.add_subplot(gs[1:2, 3:4]); \n",
    "face_novel_human('vggface', 'rt', PARAMS, view_type='original')\n",
    "plt.savefig(os.path.join(_location, 'training_effects_unfoveated.pdf'), format='pdf', bbox_inches = \"tight\")"
   ]
  }
 ],
 "metadata": {
  "kernelspec": {
   "display_name": "Python [conda env:tf]",
   "language": "python",
   "name": "conda-env-tf-py"
  },
  "language_info": {
   "codemirror_mode": {
    "name": "ipython",
    "version": 3
   },
   "file_extension": ".py",
   "mimetype": "text/x-python",
   "name": "python",
   "nbconvert_exporter": "python",
   "pygments_lexer": "ipython3",
   "version": "3.7.5"
  }
 },
 "nbformat": 4,
 "nbformat_minor": 2
}
